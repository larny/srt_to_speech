{
 "cells": [
  {
   "cell_type": "code",
   "execution_count": 1,
   "metadata": {},
   "outputs": [],
   "source": [
    "# STEP1 -- 输出压制特效字幕的代码\n",
    "from all_functions import *\n",
    "chapter = 2\n",
    "ep_indx = 10\n",
    "prefix = r\"E:\\BaiduNetdiskDownload\\第\" + num2chinese(chapter) + \"章\\\\S\" + '{:02d}'.format(chapter) + 'E' + '{:02d}'.format(ep_indx) + \"\\\\\"\n",
    "episode = f\"S{chapter:02d}E{ep_indx:02d}\"\n",
    "prefix2 = prefix + episode\n",
    "# 自建库词典，强制变成全大写\n",
    "my_dict = ['PBR', 'HDR', 'UV', 'PT', 'CG', 'GGX', 'BRDF', 'RGB','JPG','PNG', 'AO', 'LOD', 'GB', 'SSS', 'IOR', 'DAZ', \n",
    "           'PPT', 'IES', 'AE', 'PS', 'EXR', 'GIF', 'GI', 'AI', 'UE', 'ACES', 'FBX', 'GPU', 'OBJ', 'OK', 'UI', 'VR', 'HUD',\n",
    "           'VJ', 'VFX', 'AOV', 'ACES', 'EXR', 'GX', 'VDB']\n",
    "# 大小写混合的\n",
    "my_dict2 = ['DeMain', 'ArtStation', 'ambientCG', 'OpenEXR', 'ACEScg', 'sRGB']"
   ]
  },
  {
   "cell_type": "code",
   "execution_count": 12,
   "metadata": {},
   "outputs": [
    {
     "name": "stderr",
     "output_type": "stream",
     "text": [
      "ffmpeg version 7.0.2 Copyright (c) 2000-2024 the FFmpeg developers\n",
      "  built with Apple clang version 15.0.0 (clang-1500.3.9.4)\n",
      "  configuration: --prefix=/opt/homebrew/Cellar/ffmpeg/7.0.2 --enable-shared --enable-pthreads --enable-version3 --cc=clang --host-cflags= --host-ldflags='-Wl,-ld_classic' --enable-ffplay --enable-gnutls --enable-gpl --enable-libaom --enable-libaribb24 --enable-libbluray --enable-libdav1d --enable-libharfbuzz --enable-libjxl --enable-libmp3lame --enable-libopus --enable-librav1e --enable-librist --enable-librubberband --enable-libsnappy --enable-libsrt --enable-libssh --enable-libsvtav1 --enable-libtesseract --enable-libtheora --enable-libvidstab --enable-libvmaf --enable-libvorbis --enable-libvpx --enable-libwebp --enable-libx264 --enable-libx265 --enable-libxml2 --enable-libxvid --enable-lzma --enable-libfontconfig --enable-libfreetype --enable-frei0r --enable-libass --enable-libopencore-amrnb --enable-libopencore-amrwb --enable-libopenjpeg --enable-libspeex --enable-libsoxr --enable-libzmq --enable-libzimg --disable-libjack --disable-indev=jack --enable-videotoolbox --enable-audiotoolbox --enable-neon\n",
      "  libavutil      59.  8.100 / 59.  8.100\n",
      "  libavcodec     61.  3.100 / 61.  3.100\n",
      "  libavformat    61.  1.100 / 61.  1.100\n",
      "  libavdevice    61.  1.100 / 61.  1.100\n",
      "  libavfilter    10.  1.100 / 10.  1.100\n",
      "  libswscale      8.  1.100 /  8.  1.100\n",
      "  libswresample   5.  1.100 /  5.  1.100\n",
      "  libpostproc    58.  1.100 / 58.  1.100\n",
      "Input #0, mov,mp4,m4a,3gp,3g2,mj2, from '/Users/larny/Desktop/Momentor/汽车渲染/10.汽车车灯渲染2.mp4':\n",
      "  Metadata:\n",
      "    major_brand     : mp42\n",
      "    minor_version   : 0\n",
      "    compatible_brands: mp42mp41\n",
      "    creation_time   : 2024-07-31T03:47:24.000000Z\n",
      "  Duration: 00:19:33.37, start: 0.000000, bitrate: 10031 kb/s\n",
      "  Stream #0:0[0x1](eng): Video: h264 (High) (avc1 / 0x31637661), yuv420p(progressive), 3840x2160 [SAR 1:1 DAR 16:9], 9710 kb/s, 30 fps, 30 tbr, 30k tbn (default)\n",
      "      Metadata:\n",
      "        creation_time   : 2024-07-31T03:47:24.000000Z\n",
      "        handler_name    : ?Mainconcept Video Media Handler\n",
      "        vendor_id       : [0][0][0][0]\n",
      "        encoder         : AVC Coding\n",
      "  Stream #0:1[0x2](eng): Audio: aac (LC) (mp4a / 0x6134706D), 48000 Hz, stereo, fltp, 317 kb/s (default)\n",
      "      Metadata:\n",
      "        creation_time   : 2024-07-31T03:47:24.000000Z\n",
      "        handler_name    : #Mainconcept MP4 Sound Media Handler\n",
      "        vendor_id       : [0][0][0][0]\n",
      "Stream mapping:\n",
      "  Stream #0:1 -> #0:0 (aac (native) -> mp3 (libmp3lame))\n",
      "Press [q] to stop, [?] for help\n",
      "Output #0, mp3, to '/Users/larny/Desktop/Momentor/汽车渲染/10.汽车车灯渲染2.mp3':\n",
      "  Metadata:\n",
      "    major_brand     : mp42\n",
      "    minor_version   : 0\n",
      "    compatible_brands: mp42mp41\n",
      "    TSSE            : Lavf61.1.100\n",
      "  Stream #0:0(eng): Audio: mp3, 48000 Hz, stereo, fltp (default)\n",
      "      Metadata:\n",
      "        creation_time   : 2024-07-31T03:47:24.000000Z\n",
      "        handler_name    : #Mainconcept MP4 Sound Media Handler\n",
      "        vendor_id       : [0][0][0][0]\n",
      "        encoder         : Lavc61.3.100 libmp3lame\n",
      "[out#0/mp3 @ 0x15a62b880] video:0KiB audio:19200KiB subtitle:0KiB other streams:0KiB global headers:0KiB muxing overhead: 0.001673%\n",
      "size=   19201KiB time=00:19:33.37 bitrate= 134.1kbits/s speed= 181x    \n",
      "ffmpeg version 7.0.2 Copyright (c) 2000-2024 the FFmpeg developers\n",
      "  built with Apple clang version 15.0.0 (clang-1500.3.9.4)\n",
      "  configuration: --prefix=/opt/homebrew/Cellar/ffmpeg/7.0.2 --enable-shared --enable-pthreads --enable-version3 --cc=clang --host-cflags= --host-ldflags='-Wl,-ld_classic' --enable-ffplay --enable-gnutls --enable-gpl --enable-libaom --enable-libaribb24 --enable-libbluray --enable-libdav1d --enable-libharfbuzz --enable-libjxl --enable-libmp3lame --enable-libopus --enable-librav1e --enable-librist --enable-librubberband --enable-libsnappy --enable-libsrt --enable-libssh --enable-libsvtav1 --enable-libtesseract --enable-libtheora --enable-libvidstab --enable-libvmaf --enable-libvorbis --enable-libvpx --enable-libwebp --enable-libx264 --enable-libx265 --enable-libxml2 --enable-libxvid --enable-lzma --enable-libfontconfig --enable-libfreetype --enable-frei0r --enable-libass --enable-libopencore-amrnb --enable-libopencore-amrwb --enable-libopenjpeg --enable-libspeex --enable-libsoxr --enable-libzmq --enable-libzimg --disable-libjack --disable-indev=jack --enable-videotoolbox --enable-audiotoolbox --enable-neon\n",
      "  libavutil      59.  8.100 / 59.  8.100\n",
      "  libavcodec     61.  3.100 / 61.  3.100\n",
      "  libavformat    61.  1.100 / 61.  1.100\n",
      "  libavdevice    61.  1.100 / 61.  1.100\n",
      "  libavfilter    10.  1.100 / 10.  1.100\n",
      "  libswscale      8.  1.100 /  8.  1.100\n",
      "  libswresample   5.  1.100 /  5.  1.100\n",
      "  libpostproc    58.  1.100 / 58.  1.100\n",
      "Input #0, mov,mp4,m4a,3gp,3g2,mj2, from '/Users/larny/Desktop/Momentor/汽车渲染/7.汽车轮胎渲染1.mp4':\n",
      "  Metadata:\n",
      "    major_brand     : mp42\n",
      "    minor_version   : 0\n",
      "    compatible_brands: mp42mp41\n",
      "    creation_time   : 2024-07-27T08:00:23.000000Z\n",
      "  Duration: 00:22:30.00, start: 0.000000, bitrate: 9477 kb/s\n",
      "  Stream #0:0[0x1](eng): Video: h264 (High) (avc1 / 0x31637661), yuv420p(progressive), 3840x2160 [SAR 1:1 DAR 16:9], 9157 kb/s, 30 fps, 30 tbr, 30k tbn (default)\n",
      "      Metadata:\n",
      "        creation_time   : 2024-07-27T08:00:23.000000Z\n",
      "        handler_name    : ?Mainconcept Video Media Handler\n",
      "        vendor_id       : [0][0][0][0]\n",
      "        encoder         : AVC Coding\n",
      "  Stream #0:1[0x2](eng): Audio: aac (LC) (mp4a / 0x6134706D), 48000 Hz, stereo, fltp, 317 kb/s (default)\n",
      "      Metadata:\n",
      "        creation_time   : 2024-07-27T08:00:23.000000Z\n",
      "        handler_name    : #Mainconcept MP4 Sound Media Handler\n",
      "        vendor_id       : [0][0][0][0]\n",
      "Stream mapping:\n",
      "  Stream #0:1 -> #0:0 (aac (native) -> mp3 (libmp3lame))\n",
      "Press [q] to stop, [?] for help\n",
      "Output #0, mp3, to '/Users/larny/Desktop/Momentor/汽车渲染/7.汽车轮胎渲染1.mp3':\n",
      "  Metadata:\n",
      "    major_brand     : mp42\n",
      "    minor_version   : 0\n",
      "    compatible_brands: mp42mp41\n",
      "    TSSE            : Lavf61.1.100\n",
      "  Stream #0:0(eng): Audio: mp3, 48000 Hz, stereo, fltp (default)\n",
      "      Metadata:\n",
      "        creation_time   : 2024-07-27T08:00:23.000000Z\n",
      "        handler_name    : #Mainconcept MP4 Sound Media Handler\n",
      "        vendor_id       : [0][0][0][0]\n",
      "        encoder         : Lavc61.3.100 libmp3lame\n"
     ]
    },
    {
     "name": "stdout",
     "output_type": "stream",
     "text": [
      "转换成功: /Users/larny/Desktop/Momentor/汽车渲染/10.汽车车灯渲染2.mp4 -> /Users/larny/Desktop/Momentor/汽车渲染/10.汽车车灯渲染2.mp3\n"
     ]
    },
    {
     "name": "stderr",
     "output_type": "stream",
     "text": [
      "[out#0/mp3 @ 0x12862b9f0] video:0KiB audio:21532KiB subtitle:0KiB other streams:0KiB global headers:0KiB muxing overhead: 0.001492%\n",
      "size=   21532KiB time=00:22:30.01 bitrate= 130.7kbits/s speed= 183x    \n",
      "ffmpeg version 7.0.2 Copyright (c) 2000-2024 the FFmpeg developers\n",
      "  built with Apple clang version 15.0.0 (clang-1500.3.9.4)\n",
      "  configuration: --prefix=/opt/homebrew/Cellar/ffmpeg/7.0.2 --enable-shared --enable-pthreads --enable-version3 --cc=clang --host-cflags= --host-ldflags='-Wl,-ld_classic' --enable-ffplay --enable-gnutls --enable-gpl --enable-libaom --enable-libaribb24 --enable-libbluray --enable-libdav1d --enable-libharfbuzz --enable-libjxl --enable-libmp3lame --enable-libopus --enable-librav1e --enable-librist --enable-librubberband --enable-libsnappy --enable-libsrt --enable-libssh --enable-libsvtav1 --enable-libtesseract --enable-libtheora --enable-libvidstab --enable-libvmaf --enable-libvorbis --enable-libvpx --enable-libwebp --enable-libx264 --enable-libx265 --enable-libxml2 --enable-libxvid --enable-lzma --enable-libfontconfig --enable-libfreetype --enable-frei0r --enable-libass --enable-libopencore-amrnb --enable-libopencore-amrwb --enable-libopenjpeg --enable-libspeex --enable-libsoxr --enable-libzmq --enable-libzimg --disable-libjack --disable-indev=jack --enable-videotoolbox --enable-audiotoolbox --enable-neon\n",
      "  libavutil      59.  8.100 / 59.  8.100\n",
      "  libavcodec     61.  3.100 / 61.  3.100\n",
      "  libavformat    61.  1.100 / 61.  1.100\n",
      "  libavdevice    61.  1.100 / 61.  1.100\n",
      "  libavfilter    10.  1.100 / 10.  1.100\n",
      "  libswscale      8.  1.100 /  8.  1.100\n",
      "  libswresample   5.  1.100 /  5.  1.100\n",
      "  libpostproc    58.  1.100 / 58.  1.100\n",
      "Input #0, mov,mp4,m4a,3gp,3g2,mj2, from '/Users/larny/Desktop/Momentor/汽车渲染/14.RS使用HDR制作环境.mp4':\n",
      "  Metadata:\n",
      "    major_brand     : mp42\n",
      "    minor_version   : 0\n",
      "    compatible_brands: mp42mp41\n",
      "    creation_time   : 2024-08-07T15:01:30.000000Z\n",
      "  Duration: 00:05:42.87, start: 0.000000, bitrate: 8464 kb/s\n",
      "  Stream #0:0[0x1](eng): Video: h264 (High) (avc1 / 0x31637661), yuv420p(progressive), 3840x2160 [SAR 1:1 DAR 16:9], 8143 kb/s, 30 fps, 30 tbr, 30k tbn (default)\n",
      "      Metadata:\n",
      "        creation_time   : 2024-08-07T15:01:30.000000Z\n",
      "        handler_name    : ?Mainconcept Video Media Handler\n",
      "        vendor_id       : [0][0][0][0]\n",
      "        encoder         : AVC Coding\n",
      "  Stream #0:1[0x2](eng): Audio: aac (LC) (mp4a / 0x6134706D), 48000 Hz, stereo, fltp, 317 kb/s (default)\n",
      "      Metadata:\n",
      "        creation_time   : 2024-08-07T15:01:30.000000Z\n",
      "        handler_name    : #Mainconcept MP4 Sound Media Handler\n",
      "        vendor_id       : [0][0][0][0]\n",
      "Stream mapping:\n",
      "  Stream #0:1 -> #0:0 (aac (native) -> mp3 (libmp3lame))\n",
      "Press [q] to stop, [?] for help\n",
      "Output #0, mp3, to '/Users/larny/Desktop/Momentor/汽车渲染/14.RS使用HDR制作环境.mp3':\n",
      "  Metadata:\n",
      "    major_brand     : mp42\n",
      "    minor_version   : 0\n",
      "    compatible_brands: mp42mp41\n",
      "    TSSE            : Lavf61.1.100\n",
      "  Stream #0:0(eng): Audio: mp3, 48000 Hz, stereo, fltp (default)\n",
      "      Metadata:\n",
      "        creation_time   : 2024-08-07T15:01:30.000000Z\n",
      "        handler_name    : #Mainconcept MP4 Sound Media Handler\n",
      "        vendor_id       : [0][0][0][0]\n",
      "        encoder         : Lavc61.3.100 libmp3lame\n"
     ]
    },
    {
     "name": "stdout",
     "output_type": "stream",
     "text": [
      "转换成功: /Users/larny/Desktop/Momentor/汽车渲染/7.汽车轮胎渲染1.mp4 -> /Users/larny/Desktop/Momentor/汽车渲染/7.汽车轮胎渲染1.mp3\n"
     ]
    },
    {
     "name": "stderr",
     "output_type": "stream",
     "text": [
      "[out#0/mp3 @ 0x137806100] video:0KiB audio:5369KiB subtitle:0KiB other streams:0KiB global headers:0KiB muxing overhead: 0.005984%\n",
      "size=    5369KiB time=00:05:42.86 bitrate= 128.3kbits/s speed= 184x    \n",
      "ffmpeg version 7.0.2 Copyright (c) 2000-2024 the FFmpeg developers\n",
      "  built with Apple clang version 15.0.0 (clang-1500.3.9.4)\n",
      "  configuration: --prefix=/opt/homebrew/Cellar/ffmpeg/7.0.2 --enable-shared --enable-pthreads --enable-version3 --cc=clang --host-cflags= --host-ldflags='-Wl,-ld_classic' --enable-ffplay --enable-gnutls --enable-gpl --enable-libaom --enable-libaribb24 --enable-libbluray --enable-libdav1d --enable-libharfbuzz --enable-libjxl --enable-libmp3lame --enable-libopus --enable-librav1e --enable-librist --enable-librubberband --enable-libsnappy --enable-libsrt --enable-libssh --enable-libsvtav1 --enable-libtesseract --enable-libtheora --enable-libvidstab --enable-libvmaf --enable-libvorbis --enable-libvpx --enable-libwebp --enable-libx264 --enable-libx265 --enable-libxml2 --enable-libxvid --enable-lzma --enable-libfontconfig --enable-libfreetype --enable-frei0r --enable-libass --enable-libopencore-amrnb --enable-libopencore-amrwb --enable-libopenjpeg --enable-libspeex --enable-libsoxr --enable-libzmq --enable-libzimg --disable-libjack --disable-indev=jack --enable-videotoolbox --enable-audiotoolbox --enable-neon\n",
      "  libavutil      59.  8.100 / 59.  8.100\n",
      "  libavcodec     61.  3.100 / 61.  3.100\n",
      "  libavformat    61.  1.100 / 61.  1.100\n",
      "  libavdevice    61.  1.100 / 61.  1.100\n",
      "  libavfilter    10.  1.100 / 10.  1.100\n",
      "  libswscale      8.  1.100 /  8.  1.100\n",
      "  libswresample   5.  1.100 /  5.  1.100\n",
      "  libpostproc    58.  1.100 / 58.  1.100\n",
      "Input #0, mov,mp4,m4a,3gp,3g2,mj2, from '/Users/larny/Desktop/Momentor/汽车渲染/5.碳纤维和珠光漆的制作.mp4':\n",
      "  Metadata:\n",
      "    major_brand     : mp42\n",
      "    minor_version   : 0\n",
      "    compatible_brands: mp42mp41\n",
      "    creation_time   : 2024-07-21T14:26:01.000000Z\n",
      "  Duration: 00:07:26.57, start: 0.000000, bitrate: 10161 kb/s\n",
      "  Stream #0:0[0x1](eng): Video: h264 (High) (avc1 / 0x31637661), yuv420p(progressive), 3840x2160 [SAR 1:1 DAR 16:9], 9841 kb/s, 30 fps, 30 tbr, 30k tbn (default)\n",
      "      Metadata:\n",
      "        creation_time   : 2024-07-21T14:26:01.000000Z\n",
      "        handler_name    : ?Mainconcept Video Media Handler\n",
      "        vendor_id       : [0][0][0][0]\n",
      "        encoder         : AVC Coding\n",
      "  Stream #0:1[0x2](eng): Audio: aac (LC) (mp4a / 0x6134706D), 48000 Hz, stereo, fltp, 317 kb/s (default)\n",
      "      Metadata:\n",
      "        creation_time   : 2024-07-21T14:26:01.000000Z\n",
      "        handler_name    : #Mainconcept MP4 Sound Media Handler\n",
      "        vendor_id       : [0][0][0][0]\n",
      "Stream mapping:\n",
      "  Stream #0:1 -> #0:0 (aac (native) -> mp3 (libmp3lame))\n",
      "Press [q] to stop, [?] for help\n",
      "Output #0, mp3, to '/Users/larny/Desktop/Momentor/汽车渲染/5.碳纤维和珠光漆的制作.mp3':\n",
      "  Metadata:\n",
      "    major_brand     : mp42\n",
      "    minor_version   : 0\n",
      "    compatible_brands: mp42mp41\n",
      "    TSSE            : Lavf61.1.100\n",
      "  Stream #0:0(eng): Audio: mp3, 48000 Hz, stereo, fltp (default)\n",
      "      Metadata:\n",
      "        creation_time   : 2024-07-21T14:26:01.000000Z\n",
      "        handler_name    : #Mainconcept MP4 Sound Media Handler\n",
      "        vendor_id       : [0][0][0][0]\n",
      "        encoder         : Lavc61.3.100 libmp3lame\n"
     ]
    },
    {
     "name": "stdout",
     "output_type": "stream",
     "text": [
      "转换成功: /Users/larny/Desktop/Momentor/汽车渲染/14.RS使用HDR制作环境.mp4 -> /Users/larny/Desktop/Momentor/汽车渲染/14.RS使用HDR制作环境.mp3\n"
     ]
    },
    {
     "name": "stderr",
     "output_type": "stream",
     "text": [
      "[out#0/mp3 @ 0x14c727c60] video:0KiB audio:7021KiB subtitle:0KiB other streams:0KiB global headers:0KiB muxing overhead: 0.004576%\n",
      "size=    7021KiB time=00:07:26.57 bitrate= 128.8kbits/s speed= 184x    \n",
      "ffmpeg version 7.0.2 Copyright (c) 2000-2024 the FFmpeg developers\n",
      "  built with Apple clang version 15.0.0 (clang-1500.3.9.4)\n",
      "  configuration: --prefix=/opt/homebrew/Cellar/ffmpeg/7.0.2 --enable-shared --enable-pthreads --enable-version3 --cc=clang --host-cflags= --host-ldflags='-Wl,-ld_classic' --enable-ffplay --enable-gnutls --enable-gpl --enable-libaom --enable-libaribb24 --enable-libbluray --enable-libdav1d --enable-libharfbuzz --enable-libjxl --enable-libmp3lame --enable-libopus --enable-librav1e --enable-librist --enable-librubberband --enable-libsnappy --enable-libsrt --enable-libssh --enable-libsvtav1 --enable-libtesseract --enable-libtheora --enable-libvidstab --enable-libvmaf --enable-libvorbis --enable-libvpx --enable-libwebp --enable-libx264 --enable-libx265 --enable-libxml2 --enable-libxvid --enable-lzma --enable-libfontconfig --enable-libfreetype --enable-frei0r --enable-libass --enable-libopencore-amrnb --enable-libopencore-amrwb --enable-libopenjpeg --enable-libspeex --enable-libsoxr --enable-libzmq --enable-libzimg --disable-libjack --disable-indev=jack --enable-videotoolbox --enable-audiotoolbox --enable-neon\n",
      "  libavutil      59.  8.100 / 59.  8.100\n",
      "  libavcodec     61.  3.100 / 61.  3.100\n",
      "  libavformat    61.  1.100 / 61.  1.100\n",
      "  libavdevice    61.  1.100 / 61.  1.100\n",
      "  libavfilter    10.  1.100 / 10.  1.100\n",
      "  libswscale      8.  1.100 /  8.  1.100\n",
      "  libswresample   5.  1.100 /  5.  1.100\n",
      "  libpostproc    58.  1.100 / 58.  1.100\n",
      "Input #0, mov,mp4,m4a,3gp,3g2,mj2, from '/Users/larny/Desktop/Momentor/汽车渲染/12.汽车打光2.mp4':\n",
      "  Metadata:\n",
      "    major_brand     : mp42\n",
      "    minor_version   : 0\n",
      "    compatible_brands: mp42mp41\n",
      "    creation_time   : 2024-07-31T09:56:44.000000Z\n",
      "  Duration: 00:06:16.30, start: 0.000000, bitrate: 9165 kb/s\n",
      "  Stream #0:0[0x1](eng): Video: h264 (High) (avc1 / 0x31637661), yuv420p(progressive), 3840x2160 [SAR 1:1 DAR 16:9], 8844 kb/s, 30 fps, 30 tbr, 30k tbn (default)\n",
      "      Metadata:\n",
      "        creation_time   : 2024-07-31T09:56:44.000000Z\n",
      "        handler_name    : ?Mainconcept Video Media Handler\n",
      "        vendor_id       : [0][0][0][0]\n",
      "        encoder         : AVC Coding\n",
      "  Stream #0:1[0x2](eng): Audio: aac (LC) (mp4a / 0x6134706D), 48000 Hz, stereo, fltp, 317 kb/s (default)\n",
      "      Metadata:\n",
      "        creation_time   : 2024-07-31T09:56:44.000000Z\n",
      "        handler_name    : #Mainconcept MP4 Sound Media Handler\n",
      "        vendor_id       : [0][0][0][0]\n",
      "Stream mapping:\n",
      "  Stream #0:1 -> #0:0 (aac (native) -> mp3 (libmp3lame))\n",
      "Press [q] to stop, [?] for help\n",
      "Output #0, mp3, to '/Users/larny/Desktop/Momentor/汽车渲染/12.汽车打光2.mp3':\n",
      "  Metadata:\n",
      "    major_brand     : mp42\n",
      "    minor_version   : 0\n",
      "    compatible_brands: mp42mp41\n",
      "    TSSE            : Lavf61.1.100\n",
      "  Stream #0:0(eng): Audio: mp3, 48000 Hz, stereo, fltp (default)\n",
      "      Metadata:\n",
      "        creation_time   : 2024-07-31T09:56:44.000000Z\n",
      "        handler_name    : #Mainconcept MP4 Sound Media Handler\n",
      "        vendor_id       : [0][0][0][0]\n",
      "        encoder         : Lavc61.3.100 libmp3lame\n"
     ]
    },
    {
     "name": "stdout",
     "output_type": "stream",
     "text": [
      "转换成功: /Users/larny/Desktop/Momentor/汽车渲染/5.碳纤维和珠光漆的制作.mp4 -> /Users/larny/Desktop/Momentor/汽车渲染/5.碳纤维和珠光漆的制作.mp3\n"
     ]
    },
    {
     "name": "stderr",
     "output_type": "stream",
     "text": [
      "[out#0/mp3 @ 0x111e04af0] video:0KiB audio:6438KiB subtitle:0KiB other streams:0KiB global headers:0KiB muxing overhead: 0.004990%\n",
      "size=    6438KiB time=00:06:16.32 bitrate= 140.2kbits/s speed= 180x    \n",
      "ffmpeg version 7.0.2 Copyright (c) 2000-2024 the FFmpeg developers\n",
      "  built with Apple clang version 15.0.0 (clang-1500.3.9.4)\n",
      "  configuration: --prefix=/opt/homebrew/Cellar/ffmpeg/7.0.2 --enable-shared --enable-pthreads --enable-version3 --cc=clang --host-cflags= --host-ldflags='-Wl,-ld_classic' --enable-ffplay --enable-gnutls --enable-gpl --enable-libaom --enable-libaribb24 --enable-libbluray --enable-libdav1d --enable-libharfbuzz --enable-libjxl --enable-libmp3lame --enable-libopus --enable-librav1e --enable-librist --enable-librubberband --enable-libsnappy --enable-libsrt --enable-libssh --enable-libsvtav1 --enable-libtesseract --enable-libtheora --enable-libvidstab --enable-libvmaf --enable-libvorbis --enable-libvpx --enable-libwebp --enable-libx264 --enable-libx265 --enable-libxml2 --enable-libxvid --enable-lzma --enable-libfontconfig --enable-libfreetype --enable-frei0r --enable-libass --enable-libopencore-amrnb --enable-libopencore-amrwb --enable-libopenjpeg --enable-libspeex --enable-libsoxr --enable-libzmq --enable-libzimg --disable-libjack --disable-indev=jack --enable-videotoolbox --enable-audiotoolbox --enable-neon\n",
      "  libavutil      59.  8.100 / 59.  8.100\n",
      "  libavcodec     61.  3.100 / 61.  3.100\n",
      "  libavformat    61.  1.100 / 61.  1.100\n",
      "  libavdevice    61.  1.100 / 61.  1.100\n",
      "  libavfilter    10.  1.100 / 10.  1.100\n",
      "  libswscale      8.  1.100 /  8.  1.100\n",
      "  libswresample   5.  1.100 /  5.  1.100\n",
      "  libpostproc    58.  1.100 / 58.  1.100\n",
      "Input #0, mov,mp4,m4a,3gp,3g2,mj2, from '/Users/larny/Desktop/Momentor/汽车渲染/6.如何在OC中制作太阳纹.mp4':\n",
      "  Metadata:\n",
      "    major_brand     : mp42\n",
      "    minor_version   : 0\n",
      "    compatible_brands: mp42mp41\n",
      "    creation_time   : 2024-06-22T09:55:25.000000Z\n",
      "  Duration: 00:22:29.13, start: 0.000000, bitrate: 8855 kb/s\n",
      "  Stream #0:0[0x1](eng): Video: h264 (High) (avc1 / 0x31637661), yuv420p(progressive), 3840x2160 [SAR 1:1 DAR 16:9], 8535 kb/s, 30 fps, 30 tbr, 30k tbn (default)\n",
      "      Metadata:\n",
      "        creation_time   : 2024-06-22T09:55:25.000000Z\n",
      "        handler_name    : ?Mainconcept Video Media Handler\n",
      "        vendor_id       : [0][0][0][0]\n",
      "        encoder         : AVC Coding\n",
      "  Stream #0:1[0x2](eng): Audio: aac (LC) (mp4a / 0x6134706D), 48000 Hz, stereo, fltp, 317 kb/s (default)\n",
      "      Metadata:\n",
      "        creation_time   : 2024-06-22T09:55:25.000000Z\n",
      "        handler_name    : #Mainconcept MP4 Sound Media Handler\n",
      "        vendor_id       : [0][0][0][0]\n",
      "Stream mapping:\n",
      "  Stream #0:1 -> #0:0 (aac (native) -> mp3 (libmp3lame))\n",
      "Press [q] to stop, [?] for help\n",
      "Output #0, mp3, to '/Users/larny/Desktop/Momentor/汽车渲染/6.如何在OC中制作太阳纹.mp3':\n",
      "  Metadata:\n",
      "    major_brand     : mp42\n",
      "    minor_version   : 0\n",
      "    compatible_brands: mp42mp41\n",
      "    TSSE            : Lavf61.1.100\n",
      "  Stream #0:0(eng): Audio: mp3, 48000 Hz, stereo, fltp (default)\n",
      "      Metadata:\n",
      "        creation_time   : 2024-06-22T09:55:25.000000Z\n",
      "        handler_name    : #Mainconcept MP4 Sound Media Handler\n",
      "        vendor_id       : [0][0][0][0]\n",
      "        encoder         : Lavc61.3.100 libmp3lame\n"
     ]
    },
    {
     "name": "stdout",
     "output_type": "stream",
     "text": [
      "转换成功: /Users/larny/Desktop/Momentor/汽车渲染/12.汽车打光2.mp4 -> /Users/larny/Desktop/Momentor/汽车渲染/12.汽车打光2.mp3\n"
     ]
    },
    {
     "name": "stderr",
     "output_type": "stream",
     "text": [
      "[out#0/mp3 @ 0x12ae39d60] video:0KiB audio:19009KiB subtitle:0KiB other streams:0KiB global headers:0KiB muxing overhead: 0.001690%\n",
      "size=   19009KiB time=00:22:29.14 bitrate= 115.4kbits/s speed= 192x    \n",
      "ffmpeg version 7.0.2 Copyright (c) 2000-2024 the FFmpeg developers\n",
      "  built with Apple clang version 15.0.0 (clang-1500.3.9.4)\n",
      "  configuration: --prefix=/opt/homebrew/Cellar/ffmpeg/7.0.2 --enable-shared --enable-pthreads --enable-version3 --cc=clang --host-cflags= --host-ldflags='-Wl,-ld_classic' --enable-ffplay --enable-gnutls --enable-gpl --enable-libaom --enable-libaribb24 --enable-libbluray --enable-libdav1d --enable-libharfbuzz --enable-libjxl --enable-libmp3lame --enable-libopus --enable-librav1e --enable-librist --enable-librubberband --enable-libsnappy --enable-libsrt --enable-libssh --enable-libsvtav1 --enable-libtesseract --enable-libtheora --enable-libvidstab --enable-libvmaf --enable-libvorbis --enable-libvpx --enable-libwebp --enable-libx264 --enable-libx265 --enable-libxml2 --enable-libxvid --enable-lzma --enable-libfontconfig --enable-libfreetype --enable-frei0r --enable-libass --enable-libopencore-amrnb --enable-libopencore-amrwb --enable-libopenjpeg --enable-libspeex --enable-libsoxr --enable-libzmq --enable-libzimg --disable-libjack --disable-indev=jack --enable-videotoolbox --enable-audiotoolbox --enable-neon\n",
      "  libavutil      59.  8.100 / 59.  8.100\n",
      "  libavcodec     61.  3.100 / 61.  3.100\n",
      "  libavformat    61.  1.100 / 61.  1.100\n",
      "  libavdevice    61.  1.100 / 61.  1.100\n",
      "  libavfilter    10.  1.100 / 10.  1.100\n",
      "  libswscale      8.  1.100 /  8.  1.100\n",
      "  libswresample   5.  1.100 /  5.  1.100\n",
      "  libpostproc    58.  1.100 / 58.  1.100\n",
      "Input #0, mov,mp4,m4a,3gp,3g2,mj2, from '/Users/larny/Desktop/Momentor/汽车渲染/8.汽车轮胎渲染2.mp4':\n",
      "  Metadata:\n",
      "    major_brand     : mp42\n",
      "    minor_version   : 0\n",
      "    compatible_brands: mp42mp41\n",
      "    creation_time   : 2024-07-27T08:13:43.000000Z\n",
      "  Duration: 00:36:11.20, start: 0.000000, bitrate: 10009 kb/s\n",
      "  Stream #0:0[0x1](eng): Video: h264 (High) (avc1 / 0x31637661), yuv420p(progressive), 3840x2160 [SAR 1:1 DAR 16:9], 9688 kb/s, 30 fps, 30 tbr, 30k tbn (default)\n",
      "      Metadata:\n",
      "        creation_time   : 2024-07-27T08:13:43.000000Z\n",
      "        handler_name    : ?Mainconcept Video Media Handler\n",
      "        vendor_id       : [0][0][0][0]\n",
      "        encoder         : AVC Coding\n",
      "  Stream #0:1[0x2](eng): Audio: aac (LC) (mp4a / 0x6134706D), 48000 Hz, stereo, fltp, 317 kb/s (default)\n",
      "      Metadata:\n",
      "        creation_time   : 2024-07-27T08:13:43.000000Z\n",
      "        handler_name    : #Mainconcept MP4 Sound Media Handler\n",
      "        vendor_id       : [0][0][0][0]\n",
      "Stream mapping:\n",
      "  Stream #0:1 -> #0:0 (aac (native) -> mp3 (libmp3lame))\n",
      "Press [q] to stop, [?] for help\n",
      "Output #0, mp3, to '/Users/larny/Desktop/Momentor/汽车渲染/8.汽车轮胎渲染2.mp3':\n",
      "  Metadata:\n",
      "    major_brand     : mp42\n",
      "    minor_version   : 0\n",
      "    compatible_brands: mp42mp41\n",
      "    TSSE            : Lavf61.1.100\n",
      "  Stream #0:0(eng): Audio: mp3, 48000 Hz, stereo, fltp (default)\n",
      "      Metadata:\n",
      "        creation_time   : 2024-07-27T08:13:43.000000Z\n",
      "        handler_name    : #Mainconcept MP4 Sound Media Handler\n",
      "        vendor_id       : [0][0][0][0]\n",
      "        encoder         : Lavc61.3.100 libmp3lame\n"
     ]
    },
    {
     "name": "stdout",
     "output_type": "stream",
     "text": [
      "转换成功: /Users/larny/Desktop/Momentor/汽车渲染/6.如何在OC中制作太阳纹.mp4 -> /Users/larny/Desktop/Momentor/汽车渲染/6.如何在OC中制作太阳纹.mp3\n"
     ]
    },
    {
     "name": "stderr",
     "output_type": "stream",
     "text": [
      "[out#0/mp3 @ 0x156004680] video:0KiB audio:33339KiB subtitle:0KiB other streams:0KiB global headers:0KiB muxing overhead: 0.000964%\n",
      "size=   33339KiB time=00:36:11.20 bitrate= 125.8kbits/s speed= 185x    \n",
      "ffmpeg version 7.0.2 Copyright (c) 2000-2024 the FFmpeg developers\n",
      "  built with Apple clang version 15.0.0 (clang-1500.3.9.4)\n",
      "  configuration: --prefix=/opt/homebrew/Cellar/ffmpeg/7.0.2 --enable-shared --enable-pthreads --enable-version3 --cc=clang --host-cflags= --host-ldflags='-Wl,-ld_classic' --enable-ffplay --enable-gnutls --enable-gpl --enable-libaom --enable-libaribb24 --enable-libbluray --enable-libdav1d --enable-libharfbuzz --enable-libjxl --enable-libmp3lame --enable-libopus --enable-librav1e --enable-librist --enable-librubberband --enable-libsnappy --enable-libsrt --enable-libssh --enable-libsvtav1 --enable-libtesseract --enable-libtheora --enable-libvidstab --enable-libvmaf --enable-libvorbis --enable-libvpx --enable-libwebp --enable-libx264 --enable-libx265 --enable-libxml2 --enable-libxvid --enable-lzma --enable-libfontconfig --enable-libfreetype --enable-frei0r --enable-libass --enable-libopencore-amrnb --enable-libopencore-amrwb --enable-libopenjpeg --enable-libspeex --enable-libsoxr --enable-libzmq --enable-libzimg --disable-libjack --disable-indev=jack --enable-videotoolbox --enable-audiotoolbox --enable-neon\n",
      "  libavutil      59.  8.100 / 59.  8.100\n",
      "  libavcodec     61.  3.100 / 61.  3.100\n",
      "  libavformat    61.  1.100 / 61.  1.100\n",
      "  libavdevice    61.  1.100 / 61.  1.100\n",
      "  libavfilter    10.  1.100 / 10.  1.100\n",
      "  libswscale      8.  1.100 /  8.  1.100\n",
      "  libswresample   5.  1.100 /  5.  1.100\n",
      "  libpostproc    58.  1.100 / 58.  1.100\n",
      "Input #0, mov,mp4,m4a,3gp,3g2,mj2, from '/Users/larny/Desktop/Momentor/汽车渲染/11.汽车打光1.mp4':\n",
      "  Metadata:\n",
      "    major_brand     : mp42\n",
      "    minor_version   : 0\n",
      "    compatible_brands: mp42mp41\n",
      "    creation_time   : 2024-07-31T09:51:05.000000Z\n",
      "  Duration: 00:10:22.33, start: 0.000000, bitrate: 6215 kb/s\n",
      "  Stream #0:0[0x1](eng): Video: h264 (High) (avc1 / 0x31637661), yuv420p(progressive), 3840x2160 [SAR 1:1 DAR 16:9], 5894 kb/s, 30 fps, 30 tbr, 30k tbn (default)\n",
      "      Metadata:\n",
      "        creation_time   : 2024-07-31T09:51:05.000000Z\n",
      "        handler_name    : ?Mainconcept Video Media Handler\n",
      "        vendor_id       : [0][0][0][0]\n",
      "        encoder         : AVC Coding\n",
      "  Stream #0:1[0x2](eng): Audio: aac (LC) (mp4a / 0x6134706D), 48000 Hz, stereo, fltp, 317 kb/s (default)\n",
      "      Metadata:\n",
      "        creation_time   : 2024-07-31T09:51:05.000000Z\n",
      "        handler_name    : #Mainconcept MP4 Sound Media Handler\n",
      "        vendor_id       : [0][0][0][0]\n",
      "Stream mapping:\n",
      "  Stream #0:1 -> #0:0 (aac (native) -> mp3 (libmp3lame))\n",
      "Press [q] to stop, [?] for help\n",
      "Output #0, mp3, to '/Users/larny/Desktop/Momentor/汽车渲染/11.汽车打光1.mp3':\n",
      "  Metadata:\n",
      "    major_brand     : mp42\n",
      "    minor_version   : 0\n",
      "    compatible_brands: mp42mp41\n",
      "    TSSE            : Lavf61.1.100\n",
      "  Stream #0:0(eng): Audio: mp3, 48000 Hz, stereo, fltp (default)\n",
      "      Metadata:\n",
      "        creation_time   : 2024-07-31T09:51:05.000000Z\n",
      "        handler_name    : #Mainconcept MP4 Sound Media Handler\n",
      "        vendor_id       : [0][0][0][0]\n",
      "        encoder         : Lavc61.3.100 libmp3lame\n"
     ]
    },
    {
     "name": "stdout",
     "output_type": "stream",
     "text": [
      "转换成功: /Users/larny/Desktop/Momentor/汽车渲染/8.汽车轮胎渲染2.mp4 -> /Users/larny/Desktop/Momentor/汽车渲染/8.汽车轮胎渲染2.mp3\n"
     ]
    },
    {
     "name": "stderr",
     "output_type": "stream",
     "text": [
      "[out#0/mp3 @ 0x14670a060] video:0KiB audio:10441KiB subtitle:0KiB other streams:0KiB global headers:0KiB muxing overhead: 0.003077%\n",
      "size=   10441KiB time=00:10:22.33 bitrate= 137.4kbits/s speed= 180x    \n",
      "ffmpeg version 7.0.2 Copyright (c) 2000-2024 the FFmpeg developers\n",
      "  built with Apple clang version 15.0.0 (clang-1500.3.9.4)\n",
      "  configuration: --prefix=/opt/homebrew/Cellar/ffmpeg/7.0.2 --enable-shared --enable-pthreads --enable-version3 --cc=clang --host-cflags= --host-ldflags='-Wl,-ld_classic' --enable-ffplay --enable-gnutls --enable-gpl --enable-libaom --enable-libaribb24 --enable-libbluray --enable-libdav1d --enable-libharfbuzz --enable-libjxl --enable-libmp3lame --enable-libopus --enable-librav1e --enable-librist --enable-librubberband --enable-libsnappy --enable-libsrt --enable-libssh --enable-libsvtav1 --enable-libtesseract --enable-libtheora --enable-libvidstab --enable-libvmaf --enable-libvorbis --enable-libvpx --enable-libwebp --enable-libx264 --enable-libx265 --enable-libxml2 --enable-libxvid --enable-lzma --enable-libfontconfig --enable-libfreetype --enable-frei0r --enable-libass --enable-libopencore-amrnb --enable-libopencore-amrwb --enable-libopenjpeg --enable-libspeex --enable-libsoxr --enable-libzmq --enable-libzimg --disable-libjack --disable-indev=jack --enable-videotoolbox --enable-audiotoolbox --enable-neon\n",
      "  libavutil      59.  8.100 / 59.  8.100\n",
      "  libavcodec     61.  3.100 / 61.  3.100\n",
      "  libavformat    61.  1.100 / 61.  1.100\n",
      "  libavdevice    61.  1.100 / 61.  1.100\n",
      "  libavfilter    10.  1.100 / 10.  1.100\n",
      "  libswscale      8.  1.100 /  8.  1.100\n",
      "  libswresample   5.  1.100 /  5.  1.100\n",
      "  libpostproc    58.  1.100 / 58.  1.100\n",
      "Input #0, mov,mp4,m4a,3gp,3g2,mj2, from '/Users/larny/Desktop/Momentor/汽车渲染/9.汽车车灯渲染1.mp4':\n",
      "  Metadata:\n",
      "    major_brand     : mp42\n",
      "    minor_version   : 0\n",
      "    compatible_brands: mp42mp41\n",
      "    creation_time   : 2024-07-29T07:42:13.000000Z\n",
      "  Duration: 00:40:00.60, start: 0.000000, bitrate: 9777 kb/s\n",
      "  Stream #0:0[0x1](eng): Video: h264 (High) (avc1 / 0x31637661), yuv420p(progressive), 3840x2160 [SAR 1:1 DAR 16:9], 9456 kb/s, 30 fps, 30 tbr, 30k tbn (default)\n",
      "      Metadata:\n",
      "        creation_time   : 2024-07-29T07:42:13.000000Z\n",
      "        handler_name    : ?Mainconcept Video Media Handler\n",
      "        vendor_id       : [0][0][0][0]\n",
      "        encoder         : AVC Coding\n",
      "  Stream #0:1[0x2](eng): Audio: aac (LC) (mp4a / 0x6134706D), 48000 Hz, stereo, fltp, 317 kb/s (default)\n",
      "      Metadata:\n",
      "        creation_time   : 2024-07-29T07:42:13.000000Z\n",
      "        handler_name    : #Mainconcept MP4 Sound Media Handler\n",
      "        vendor_id       : [0][0][0][0]\n",
      "Stream mapping:\n",
      "  Stream #0:1 -> #0:0 (aac (native) -> mp3 (libmp3lame))\n",
      "Press [q] to stop, [?] for help\n",
      "Output #0, mp3, to '/Users/larny/Desktop/Momentor/汽车渲染/9.汽车车灯渲染1.mp3':\n",
      "  Metadata:\n",
      "    major_brand     : mp42\n",
      "    minor_version   : 0\n",
      "    compatible_brands: mp42mp41\n",
      "    TSSE            : Lavf61.1.100\n",
      "  Stream #0:0(eng): Audio: mp3, 48000 Hz, stereo, fltp (default)\n",
      "      Metadata:\n",
      "        creation_time   : 2024-07-29T07:42:13.000000Z\n",
      "        handler_name    : #Mainconcept MP4 Sound Media Handler\n",
      "        vendor_id       : [0][0][0][0]\n",
      "        encoder         : Lavc61.3.100 libmp3lame\n"
     ]
    },
    {
     "name": "stdout",
     "output_type": "stream",
     "text": [
      "转换成功: /Users/larny/Desktop/Momentor/汽车渲染/11.汽车打光1.mp4 -> /Users/larny/Desktop/Momentor/汽车渲染/11.汽车打光1.mp3\n"
     ]
    },
    {
     "name": "stderr",
     "output_type": "stream",
     "text": [
      "[out#0/mp3 @ 0x1296040d0] video:0KiB audio:36610KiB subtitle:0KiB other streams:0KiB global headers:0KiB muxing overhead: 0.000878%\n",
      "size=   36610KiB time=00:40:00.61 bitrate= 124.9kbits/s speed= 182x    \n",
      "ffmpeg version 7.0.2 Copyright (c) 2000-2024 the FFmpeg developers\n",
      "  built with Apple clang version 15.0.0 (clang-1500.3.9.4)\n",
      "  configuration: --prefix=/opt/homebrew/Cellar/ffmpeg/7.0.2 --enable-shared --enable-pthreads --enable-version3 --cc=clang --host-cflags= --host-ldflags='-Wl,-ld_classic' --enable-ffplay --enable-gnutls --enable-gpl --enable-libaom --enable-libaribb24 --enable-libbluray --enable-libdav1d --enable-libharfbuzz --enable-libjxl --enable-libmp3lame --enable-libopus --enable-librav1e --enable-librist --enable-librubberband --enable-libsnappy --enable-libsrt --enable-libssh --enable-libsvtav1 --enable-libtesseract --enable-libtheora --enable-libvidstab --enable-libvmaf --enable-libvorbis --enable-libvpx --enable-libwebp --enable-libx264 --enable-libx265 --enable-libxml2 --enable-libxvid --enable-lzma --enable-libfontconfig --enable-libfreetype --enable-frei0r --enable-libass --enable-libopencore-amrnb --enable-libopencore-amrwb --enable-libopenjpeg --enable-libspeex --enable-libsoxr --enable-libzmq --enable-libzimg --disable-libjack --disable-indev=jack --enable-videotoolbox --enable-audiotoolbox --enable-neon\n",
      "  libavutil      59.  8.100 / 59.  8.100\n",
      "  libavcodec     61.  3.100 / 61.  3.100\n",
      "  libavformat    61.  1.100 / 61.  1.100\n",
      "  libavdevice    61.  1.100 / 61.  1.100\n",
      "  libavfilter    10.  1.100 / 10.  1.100\n",
      "  libswscale      8.  1.100 /  8.  1.100\n",
      "  libswresample   5.  1.100 /  5.  1.100\n",
      "  libpostproc    58.  1.100 / 58.  1.100\n",
      "Input #0, mov,mp4,m4a,3gp,3g2,mj2, from '/Users/larny/Desktop/Momentor/汽车渲染/13.OC使用HDR制作汽车环境.mp4':\n",
      "  Metadata:\n",
      "    major_brand     : mp42\n",
      "    minor_version   : 0\n",
      "    compatible_brands: mp42mp41\n",
      "    creation_time   : 2024-08-07T14:58:33.000000Z\n",
      "  Duration: 00:12:20.60, start: 0.000000, bitrate: 8981 kb/s\n",
      "  Stream #0:0[0x1](eng): Video: h264 (High) (avc1 / 0x31637661), yuv420p(progressive), 3840x2160 [SAR 1:1 DAR 16:9], 8661 kb/s, 30 fps, 30 tbr, 30k tbn (default)\n",
      "      Metadata:\n",
      "        creation_time   : 2024-08-07T14:58:33.000000Z\n",
      "        handler_name    : ?Mainconcept Video Media Handler\n",
      "        vendor_id       : [0][0][0][0]\n",
      "        encoder         : AVC Coding\n",
      "  Stream #0:1[0x2](eng): Audio: aac (LC) (mp4a / 0x6134706D), 48000 Hz, stereo, fltp, 317 kb/s (default)\n",
      "      Metadata:\n",
      "        creation_time   : 2024-08-07T14:58:33.000000Z\n",
      "        handler_name    : #Mainconcept MP4 Sound Media Handler\n",
      "        vendor_id       : [0][0][0][0]\n",
      "Stream mapping:\n",
      "  Stream #0:1 -> #0:0 (aac (native) -> mp3 (libmp3lame))\n",
      "Press [q] to stop, [?] for help\n",
      "Output #0, mp3, to '/Users/larny/Desktop/Momentor/汽车渲染/13.OC使用HDR制作汽车环境.mp3':\n",
      "  Metadata:\n",
      "    major_brand     : mp42\n",
      "    minor_version   : 0\n",
      "    compatible_brands: mp42mp41\n",
      "    TSSE            : Lavf61.1.100\n",
      "  Stream #0:0(eng): Audio: mp3, 48000 Hz, stereo, fltp (default)\n",
      "      Metadata:\n",
      "        creation_time   : 2024-08-07T14:58:33.000000Z\n",
      "        handler_name    : #Mainconcept MP4 Sound Media Handler\n",
      "        vendor_id       : [0][0][0][0]\n",
      "        encoder         : Lavc61.3.100 libmp3lame\n"
     ]
    },
    {
     "name": "stdout",
     "output_type": "stream",
     "text": [
      "转换成功: /Users/larny/Desktop/Momentor/汽车渲染/9.汽车车灯渲染1.mp4 -> /Users/larny/Desktop/Momentor/汽车渲染/9.汽车车灯渲染1.mp3\n"
     ]
    },
    {
     "name": "stderr",
     "output_type": "stream",
     "text": [
      "[out#0/mp3 @ 0x128e06520] video:0KiB audio:11809KiB subtitle:0KiB other streams:0KiB global headers:0KiB muxing overhead: 0.002721%\n",
      "size=   11810KiB time=00:12:20.60 bitrate= 130.6kbits/s speed= 178x    \n",
      "ffmpeg version 7.0.2 Copyright (c) 2000-2024 the FFmpeg developers\n",
      "  built with Apple clang version 15.0.0 (clang-1500.3.9.4)\n",
      "  configuration: --prefix=/opt/homebrew/Cellar/ffmpeg/7.0.2 --enable-shared --enable-pthreads --enable-version3 --cc=clang --host-cflags= --host-ldflags='-Wl,-ld_classic' --enable-ffplay --enable-gnutls --enable-gpl --enable-libaom --enable-libaribb24 --enable-libbluray --enable-libdav1d --enable-libharfbuzz --enable-libjxl --enable-libmp3lame --enable-libopus --enable-librav1e --enable-librist --enable-librubberband --enable-libsnappy --enable-libsrt --enable-libssh --enable-libsvtav1 --enable-libtesseract --enable-libtheora --enable-libvidstab --enable-libvmaf --enable-libvorbis --enable-libvpx --enable-libwebp --enable-libx264 --enable-libx265 --enable-libxml2 --enable-libxvid --enable-lzma --enable-libfontconfig --enable-libfreetype --enable-frei0r --enable-libass --enable-libopencore-amrnb --enable-libopencore-amrwb --enable-libopenjpeg --enable-libspeex --enable-libsoxr --enable-libzmq --enable-libzimg --disable-libjack --disable-indev=jack --enable-videotoolbox --enable-audiotoolbox --enable-neon\n",
      "  libavutil      59.  8.100 / 59.  8.100\n",
      "  libavcodec     61.  3.100 / 61.  3.100\n",
      "  libavformat    61.  1.100 / 61.  1.100\n",
      "  libavdevice    61.  1.100 / 61.  1.100\n",
      "  libavfilter    10.  1.100 / 10.  1.100\n",
      "  libswscale      8.  1.100 /  8.  1.100\n",
      "  libswresample   5.  1.100 /  5.  1.100\n",
      "  libpostproc    58.  1.100 / 58.  1.100\n"
     ]
    },
    {
     "name": "stdout",
     "output_type": "stream",
     "text": [
      "转换成功: /Users/larny/Desktop/Momentor/汽车渲染/13.OC使用HDR制作汽车环境.mp4 -> /Users/larny/Desktop/Momentor/汽车渲染/13.OC使用HDR制作汽车环境.mp3\n"
     ]
    },
    {
     "name": "stderr",
     "output_type": "stream",
     "text": [
      "Input #0, mov,mp4,m4a,3gp,3g2,mj2, from '/Users/larny/Desktop/Momentor/汽车渲染/3.固态漆制作_1.mp4':\n",
      "  Metadata:\n",
      "    major_brand     : mp42\n",
      "    minor_version   : 0\n",
      "    compatible_brands: mp42mp41\n",
      "    creation_time   : 2024-08-23T07:32:21.000000Z\n",
      "  Duration: 00:18:55.10, start: 0.000000, bitrate: 37879 kb/s\n",
      "  Stream #0:0[0x1](eng): Video: h264 (Main) (avc1 / 0x31637661), yuv420p(progressive), 3840x2160 [SAR 1:1 DAR 16:9], 37558 kb/s, 30 fps, 30 tbr, 30k tbn (default)\n",
      "      Metadata:\n",
      "        creation_time   : 2024-08-23T07:32:21.000000Z\n",
      "        handler_name    : ?Mainconcept Video Media Handler\n",
      "        vendor_id       : [0][0][0][0]\n",
      "        encoder         : AVC Coding\n",
      "  Stream #0:1[0x2](eng): Audio: aac (LC) (mp4a / 0x6134706D), 48000 Hz, stereo, fltp, 317 kb/s (default)\n",
      "      Metadata:\n",
      "        creation_time   : 2024-08-23T07:32:21.000000Z\n",
      "        handler_name    : #Mainconcept MP4 Sound Media Handler\n",
      "        vendor_id       : [0][0][0][0]\n",
      "Stream mapping:\n",
      "  Stream #0:1 -> #0:0 (aac (native) -> mp3 (libmp3lame))\n",
      "Press [q] to stop, [?] for help\n",
      "Output #0, mp3, to '/Users/larny/Desktop/Momentor/汽车渲染/3.固态漆制作_1.mp3':\n",
      "  Metadata:\n",
      "    major_brand     : mp42\n",
      "    minor_version   : 0\n",
      "    compatible_brands: mp42mp41\n",
      "    TSSE            : Lavf61.1.100\n",
      "  Stream #0:0(eng): Audio: mp3, 48000 Hz, stereo, fltp (default)\n",
      "      Metadata:\n",
      "        creation_time   : 2024-08-23T07:32:21.000000Z\n",
      "        handler_name    : #Mainconcept MP4 Sound Media Handler\n",
      "        vendor_id       : [0][0][0][0]\n",
      "        encoder         : Lavc61.3.100 libmp3lame\n",
      "[out#0/mp3 @ 0x12a637c50] video:0KiB audio:18286KiB subtitle:0KiB other streams:0KiB global headers:0KiB muxing overhead: 0.001757%\n",
      "size=   18287KiB time=00:18:55.10 bitrate= 132.0kbits/s speed= 183x    \n",
      "ffmpeg version 7.0.2 Copyright (c) 2000-2024 the FFmpeg developers\n",
      "  built with Apple clang version 15.0.0 (clang-1500.3.9.4)\n",
      "  configuration: --prefix=/opt/homebrew/Cellar/ffmpeg/7.0.2 --enable-shared --enable-pthreads --enable-version3 --cc=clang --host-cflags= --host-ldflags='-Wl,-ld_classic' --enable-ffplay --enable-gnutls --enable-gpl --enable-libaom --enable-libaribb24 --enable-libbluray --enable-libdav1d --enable-libharfbuzz --enable-libjxl --enable-libmp3lame --enable-libopus --enable-librav1e --enable-librist --enable-librubberband --enable-libsnappy --enable-libsrt --enable-libssh --enable-libsvtav1 --enable-libtesseract --enable-libtheora --enable-libvidstab --enable-libvmaf --enable-libvorbis --enable-libvpx --enable-libwebp --enable-libx264 --enable-libx265 --enable-libxml2 --enable-libxvid --enable-lzma --enable-libfontconfig --enable-libfreetype --enable-frei0r --enable-libass --enable-libopencore-amrnb --enable-libopencore-amrwb --enable-libopenjpeg --enable-libspeex --enable-libsoxr --enable-libzmq --enable-libzimg --disable-libjack --disable-indev=jack --enable-videotoolbox --enable-audiotoolbox --enable-neon\n",
      "  libavutil      59.  8.100 / 59.  8.100\n",
      "  libavcodec     61.  3.100 / 61.  3.100\n",
      "  libavformat    61.  1.100 / 61.  1.100\n",
      "  libavdevice    61.  1.100 / 61.  1.100\n",
      "  libavfilter    10.  1.100 / 10.  1.100\n",
      "  libswscale      8.  1.100 /  8.  1.100\n",
      "  libswresample   5.  1.100 /  5.  1.100\n",
      "  libpostproc    58.  1.100 / 58.  1.100\n"
     ]
    },
    {
     "name": "stdout",
     "output_type": "stream",
     "text": [
      "转换成功: /Users/larny/Desktop/Momentor/汽车渲染/3.固态漆制作_1.mp4 -> /Users/larny/Desktop/Momentor/汽车渲染/3.固态漆制作_1.mp3\n"
     ]
    },
    {
     "name": "stderr",
     "output_type": "stream",
     "text": [
      "Input #0, mov,mp4,m4a,3gp,3g2,mj2, from '/Users/larny/Desktop/Momentor/汽车渲染/17.OC制作写实路面.mp4':\n",
      "  Metadata:\n",
      "    major_brand     : mp42\n",
      "    minor_version   : 0\n",
      "    compatible_brands: mp42mp41\n",
      "    creation_time   : 2024-08-08T08:36:48.000000Z\n",
      "  Duration: 00:21:39.83, start: 0.000000, bitrate: 10132 kb/s\n",
      "  Stream #0:0[0x1](eng): Video: h264 (High) (avc1 / 0x31637661), yuv420p(progressive), 3840x2160 [SAR 1:1 DAR 16:9], 9812 kb/s, 30 fps, 30 tbr, 30k tbn (default)\n",
      "      Metadata:\n",
      "        creation_time   : 2024-08-08T08:36:48.000000Z\n",
      "        handler_name    : ?Mainconcept Video Media Handler\n",
      "        vendor_id       : [0][0][0][0]\n",
      "        encoder         : AVC Coding\n",
      "  Stream #0:1[0x2](eng): Audio: aac (LC) (mp4a / 0x6134706D), 48000 Hz, stereo, fltp, 317 kb/s (default)\n",
      "      Metadata:\n",
      "        creation_time   : 2024-08-08T08:36:48.000000Z\n",
      "        handler_name    : #Mainconcept MP4 Sound Media Handler\n",
      "        vendor_id       : [0][0][0][0]\n",
      "Stream mapping:\n",
      "  Stream #0:1 -> #0:0 (aac (native) -> mp3 (libmp3lame))\n",
      "Press [q] to stop, [?] for help\n",
      "Output #0, mp3, to '/Users/larny/Desktop/Momentor/汽车渲染/17.OC制作写实路面.mp3':\n",
      "  Metadata:\n",
      "    major_brand     : mp42\n",
      "    minor_version   : 0\n",
      "    compatible_brands: mp42mp41\n",
      "    TSSE            : Lavf61.1.100\n",
      "  Stream #0:0(eng): Audio: mp3, 48000 Hz, stereo, fltp (default)\n",
      "      Metadata:\n",
      "        creation_time   : 2024-08-08T08:36:48.000000Z\n",
      "        handler_name    : #Mainconcept MP4 Sound Media Handler\n",
      "        vendor_id       : [0][0][0][0]\n",
      "        encoder         : Lavc61.3.100 libmp3lame\n",
      "[out#0/mp3 @ 0x15bf21b30] video:0KiB audio:19548KiB subtitle:0KiB other streams:0KiB global headers:0KiB muxing overhead: 0.001644%\n",
      "size=   19548KiB time=00:21:39.84 bitrate= 123.2kbits/s speed= 183x    \n",
      "ffmpeg version 7.0.2 Copyright (c) 2000-2024 the FFmpeg developers\n",
      "  built with Apple clang version 15.0.0 (clang-1500.3.9.4)\n",
      "  configuration: --prefix=/opt/homebrew/Cellar/ffmpeg/7.0.2 --enable-shared --enable-pthreads --enable-version3 --cc=clang --host-cflags= --host-ldflags='-Wl,-ld_classic' --enable-ffplay --enable-gnutls --enable-gpl --enable-libaom --enable-libaribb24 --enable-libbluray --enable-libdav1d --enable-libharfbuzz --enable-libjxl --enable-libmp3lame --enable-libopus --enable-librav1e --enable-librist --enable-librubberband --enable-libsnappy --enable-libsrt --enable-libssh --enable-libsvtav1 --enable-libtesseract --enable-libtheora --enable-libvidstab --enable-libvmaf --enable-libvorbis --enable-libvpx --enable-libwebp --enable-libx264 --enable-libx265 --enable-libxml2 --enable-libxvid --enable-lzma --enable-libfontconfig --enable-libfreetype --enable-frei0r --enable-libass --enable-libopencore-amrnb --enable-libopencore-amrwb --enable-libopenjpeg --enable-libspeex --enable-libsoxr --enable-libzmq --enable-libzimg --disable-libjack --disable-indev=jack --enable-videotoolbox --enable-audiotoolbox --enable-neon\n",
      "  libavutil      59.  8.100 / 59.  8.100\n",
      "  libavcodec     61.  3.100 / 61.  3.100\n",
      "  libavformat    61.  1.100 / 61.  1.100\n",
      "  libavdevice    61.  1.100 / 61.  1.100\n",
      "  libavfilter    10.  1.100 / 10.  1.100\n",
      "  libswscale      8.  1.100 /  8.  1.100\n",
      "  libswresample   5.  1.100 /  5.  1.100\n",
      "  libpostproc    58.  1.100 / 58.  1.100\n",
      "Input #0, mov,mp4,m4a,3gp,3g2,mj2, from '/Users/larny/Desktop/Momentor/汽车渲染/18.OC制作地面贴花.mp4':\n",
      "  Metadata:\n",
      "    major_brand     : mp42\n",
      "    minor_version   : 0\n",
      "    compatible_brands: mp42mp41\n",
      "    creation_time   : 2024-08-08T09:01:57.000000Z\n",
      "  Duration: 00:16:34.67, start: 0.000000, bitrate: 10375 kb/s\n",
      "  Stream #0:0[0x1](eng): Video: h264 (High) (avc1 / 0x31637661), yuv420p(progressive), 3840x2160 [SAR 1:1 DAR 16:9], 10054 kb/s, 30 fps, 30 tbr, 30k tbn (default)\n",
      "      Metadata:\n",
      "        creation_time   : 2024-08-08T09:01:57.000000Z\n",
      "        handler_name    : ?Mainconcept Video Media Handler\n",
      "        vendor_id       : [0][0][0][0]\n",
      "        encoder         : AVC Coding\n",
      "  Stream #0:1[0x2](eng): Audio: aac (LC) (mp4a / 0x6134706D), 48000 Hz, stereo, fltp, 317 kb/s (default)\n",
      "      Metadata:\n",
      "        creation_time   : 2024-08-08T09:01:57.000000Z\n",
      "        handler_name    : #Mainconcept MP4 Sound Media Handler\n",
      "        vendor_id       : [0][0][0][0]\n",
      "Stream mapping:\n",
      "  Stream #0:1 -> #0:0 (aac (native) -> mp3 (libmp3lame))\n",
      "Press [q] to stop, [?] for help\n",
      "Output #0, mp3, to '/Users/larny/Desktop/Momentor/汽车渲染/18.OC制作地面贴花.mp3':\n",
      "  Metadata:\n",
      "    major_brand     : mp42\n",
      "    minor_version   : 0\n",
      "    compatible_brands: mp42mp41\n",
      "    TSSE            : Lavf61.1.100\n",
      "  Stream #0:0(eng): Audio: mp3, 48000 Hz, stereo, fltp (default)\n",
      "      Metadata:\n",
      "        creation_time   : 2024-08-08T09:01:57.000000Z\n",
      "        handler_name    : #Mainconcept MP4 Sound Media Handler\n",
      "        vendor_id       : [0][0][0][0]\n",
      "        encoder         : Lavc61.3.100 libmp3lame\n"
     ]
    },
    {
     "name": "stdout",
     "output_type": "stream",
     "text": [
      "转换成功: /Users/larny/Desktop/Momentor/汽车渲染/17.OC制作写实路面.mp4 -> /Users/larny/Desktop/Momentor/汽车渲染/17.OC制作写实路面.mp3\n"
     ]
    },
    {
     "name": "stderr",
     "output_type": "stream",
     "text": [
      "[out#0/mp3 @ 0x13ae2f3e0] video:0KiB audio:15097KiB subtitle:0KiB other streams:0KiB global headers:0KiB muxing overhead: 0.002128%\n",
      "size=   15097KiB time=00:16:34.66 bitrate= 124.3kbits/s speed= 185x    \n",
      "ffmpeg version 7.0.2 Copyright (c) 2000-2024 the FFmpeg developers\n",
      "  built with Apple clang version 15.0.0 (clang-1500.3.9.4)\n",
      "  configuration: --prefix=/opt/homebrew/Cellar/ffmpeg/7.0.2 --enable-shared --enable-pthreads --enable-version3 --cc=clang --host-cflags= --host-ldflags='-Wl,-ld_classic' --enable-ffplay --enable-gnutls --enable-gpl --enable-libaom --enable-libaribb24 --enable-libbluray --enable-libdav1d --enable-libharfbuzz --enable-libjxl --enable-libmp3lame --enable-libopus --enable-librav1e --enable-librist --enable-librubberband --enable-libsnappy --enable-libsrt --enable-libssh --enable-libsvtav1 --enable-libtesseract --enable-libtheora --enable-libvidstab --enable-libvmaf --enable-libvorbis --enable-libvpx --enable-libwebp --enable-libx264 --enable-libx265 --enable-libxml2 --enable-libxvid --enable-lzma --enable-libfontconfig --enable-libfreetype --enable-frei0r --enable-libass --enable-libopencore-amrnb --enable-libopencore-amrwb --enable-libopenjpeg --enable-libspeex --enable-libsoxr --enable-libzmq --enable-libzimg --disable-libjack --disable-indev=jack --enable-videotoolbox --enable-audiotoolbox --enable-neon\n",
      "  libavutil      59.  8.100 / 59.  8.100\n",
      "  libavcodec     61.  3.100 / 61.  3.100\n",
      "  libavformat    61.  1.100 / 61.  1.100\n",
      "  libavdevice    61.  1.100 / 61.  1.100\n",
      "  libavfilter    10.  1.100 / 10.  1.100\n",
      "  libswscale      8.  1.100 /  8.  1.100\n",
      "  libswresample   5.  1.100 /  5.  1.100\n",
      "  libpostproc    58.  1.100 / 58.  1.100\n",
      "Input #0, mov,mp4,m4a,3gp,3g2,mj2, from '/Users/larny/Desktop/Momentor/汽车渲染/1.汽车渲染注意事项.mp4':\n",
      "  Metadata:\n",
      "    major_brand     : mp42\n",
      "    minor_version   : 0\n",
      "    compatible_brands: mp42mp41\n",
      "    creation_time   : 2024-07-21T11:32:13.000000Z\n",
      "  Duration: 00:15:37.60, start: 0.000000, bitrate: 1934 kb/s\n",
      "  Stream #0:0[0x1](eng): Video: h264 (High) (avc1 / 0x31637661), yuv420p(progressive), 3840x2160 [SAR 1:1 DAR 16:9], 1613 kb/s, 30 fps, 30 tbr, 30k tbn (default)\n",
      "      Metadata:\n",
      "        creation_time   : 2024-07-21T11:32:13.000000Z\n",
      "        handler_name    : ?Mainconcept Video Media Handler\n",
      "        vendor_id       : [0][0][0][0]\n",
      "        encoder         : AVC Coding\n",
      "  Stream #0:1[0x2](eng): Audio: aac (LC) (mp4a / 0x6134706D), 48000 Hz, stereo, fltp, 317 kb/s (default)\n",
      "      Metadata:\n",
      "        creation_time   : 2024-07-21T11:32:13.000000Z\n",
      "        handler_name    : #Mainconcept MP4 Sound Media Handler\n",
      "        vendor_id       : [0][0][0][0]\n",
      "Stream mapping:\n",
      "  Stream #0:1 -> #0:0 (aac (native) -> mp3 (libmp3lame))\n",
      "Press [q] to stop, [?] for help\n",
      "Output #0, mp3, to '/Users/larny/Desktop/Momentor/汽车渲染/1.汽车渲染注意事项.mp3':\n",
      "  Metadata:\n",
      "    major_brand     : mp42\n",
      "    minor_version   : 0\n",
      "    compatible_brands: mp42mp41\n",
      "    TSSE            : Lavf61.1.100\n",
      "  Stream #0:0(eng): Audio: mp3, 48000 Hz, stereo, fltp (default)\n",
      "      Metadata:\n",
      "        creation_time   : 2024-07-21T11:32:13.000000Z\n",
      "        handler_name    : #Mainconcept MP4 Sound Media Handler\n",
      "        vendor_id       : [0][0][0][0]\n",
      "        encoder         : Lavc61.3.100 libmp3lame\n"
     ]
    },
    {
     "name": "stdout",
     "output_type": "stream",
     "text": [
      "转换成功: /Users/larny/Desktop/Momentor/汽车渲染/18.OC制作地面贴花.mp4 -> /Users/larny/Desktop/Momentor/汽车渲染/18.OC制作地面贴花.mp3\n"
     ]
    },
    {
     "name": "stderr",
     "output_type": "stream",
     "text": [
      "[out#0/mp3 @ 0x14c62b070] video:0KiB audio:17198KiB subtitle:0KiB other streams:0KiB global headers:0KiB muxing overhead: 0.001868%\n",
      "size=   17198KiB time=00:15:37.60 bitrate= 150.3kbits/s speed= 173x    \n",
      "ffmpeg version 7.0.2 Copyright (c) 2000-2024 the FFmpeg developers\n",
      "  built with Apple clang version 15.0.0 (clang-1500.3.9.4)\n",
      "  configuration: --prefix=/opt/homebrew/Cellar/ffmpeg/7.0.2 --enable-shared --enable-pthreads --enable-version3 --cc=clang --host-cflags= --host-ldflags='-Wl,-ld_classic' --enable-ffplay --enable-gnutls --enable-gpl --enable-libaom --enable-libaribb24 --enable-libbluray --enable-libdav1d --enable-libharfbuzz --enable-libjxl --enable-libmp3lame --enable-libopus --enable-librav1e --enable-librist --enable-librubberband --enable-libsnappy --enable-libsrt --enable-libssh --enable-libsvtav1 --enable-libtesseract --enable-libtheora --enable-libvidstab --enable-libvmaf --enable-libvorbis --enable-libvpx --enable-libwebp --enable-libx264 --enable-libx265 --enable-libxml2 --enable-libxvid --enable-lzma --enable-libfontconfig --enable-libfreetype --enable-frei0r --enable-libass --enable-libopencore-amrnb --enable-libopencore-amrwb --enable-libopenjpeg --enable-libspeex --enable-libsoxr --enable-libzmq --enable-libzimg --disable-libjack --disable-indev=jack --enable-videotoolbox --enable-audiotoolbox --enable-neon\n",
      "  libavutil      59.  8.100 / 59.  8.100\n",
      "  libavcodec     61.  3.100 / 61.  3.100\n",
      "  libavformat    61.  1.100 / 61.  1.100\n",
      "  libavdevice    61.  1.100 / 61.  1.100\n",
      "  libavfilter    10.  1.100 / 10.  1.100\n",
      "  libswscale      8.  1.100 /  8.  1.100\n",
      "  libswresample   5.  1.100 /  5.  1.100\n",
      "  libpostproc    58.  1.100 / 58.  1.100\n",
      "Input #0, mov,mp4,m4a,3gp,3g2,mj2, from '/Users/larny/Desktop/Momentor/汽车渲染/2.汽车渲染准备工作_1.mp4':\n",
      "  Metadata:\n",
      "    major_brand     : mp42\n",
      "    minor_version   : 0\n",
      "    compatible_brands: mp42mp41\n",
      "    creation_time   : 2024-08-23T07:18:14.000000Z\n",
      "  Duration: 00:05:39.90, start: 0.000000, bitrate: 19430 kb/s\n",
      "  Stream #0:0[0x1](eng): Video: h264 (Main) (avc1 / 0x31637661), yuv420p(progressive), 3840x2160 [SAR 1:1 DAR 16:9], 19108 kb/s, 30 fps, 30 tbr, 30k tbn (default)\n",
      "      Metadata:\n",
      "        creation_time   : 2024-08-23T07:18:14.000000Z\n",
      "        handler_name    : ?Mainconcept Video Media Handler\n",
      "        vendor_id       : [0][0][0][0]\n",
      "        encoder         : AVC Coding\n",
      "  Stream #0:1[0x2](eng): Audio: aac (LC) (mp4a / 0x6134706D), 48000 Hz, stereo, fltp, 317 kb/s (default)\n",
      "      Metadata:\n",
      "        creation_time   : 2024-08-23T07:18:14.000000Z\n",
      "        handler_name    : #Mainconcept MP4 Sound Media Handler\n",
      "        vendor_id       : [0][0][0][0]\n",
      "Stream mapping:\n",
      "  Stream #0:1 -> #0:0 (aac (native) -> mp3 (libmp3lame))\n",
      "Press [q] to stop, [?] for help\n",
      "Output #0, mp3, to '/Users/larny/Desktop/Momentor/汽车渲染/2.汽车渲染准备工作_1.mp3':\n",
      "  Metadata:\n",
      "    major_brand     : mp42\n",
      "    minor_version   : 0\n",
      "    compatible_brands: mp42mp41\n",
      "    TSSE            : Lavf61.1.100\n",
      "  Stream #0:0(eng): Audio: mp3, 48000 Hz, stereo, fltp (default)\n",
      "      Metadata:\n",
      "        creation_time   : 2024-08-23T07:18:14.000000Z\n",
      "        handler_name    : #Mainconcept MP4 Sound Media Handler\n",
      "        vendor_id       : [0][0][0][0]\n",
      "        encoder         : Lavc61.3.100 libmp3lame\n"
     ]
    },
    {
     "name": "stdout",
     "output_type": "stream",
     "text": [
      "转换成功: /Users/larny/Desktop/Momentor/汽车渲染/1.汽车渲染注意事项.mp4 -> /Users/larny/Desktop/Momentor/汽车渲染/1.汽车渲染注意事项.mp3\n"
     ]
    },
    {
     "name": "stderr",
     "output_type": "stream",
     "text": [
      "[out#0/mp3 @ 0x12f62bbc0] video:0KiB audio:6066KiB subtitle:0KiB other streams:0KiB global headers:0KiB muxing overhead: 0.005297%\n",
      "size=    6066KiB time=00:05:39.90 bitrate= 146.2kbits/s speed= 174x    \n",
      "ffmpeg version 7.0.2 Copyright (c) 2000-2024 the FFmpeg developers\n",
      "  built with Apple clang version 15.0.0 (clang-1500.3.9.4)\n",
      "  configuration: --prefix=/opt/homebrew/Cellar/ffmpeg/7.0.2 --enable-shared --enable-pthreads --enable-version3 --cc=clang --host-cflags= --host-ldflags='-Wl,-ld_classic' --enable-ffplay --enable-gnutls --enable-gpl --enable-libaom --enable-libaribb24 --enable-libbluray --enable-libdav1d --enable-libharfbuzz --enable-libjxl --enable-libmp3lame --enable-libopus --enable-librav1e --enable-librist --enable-librubberband --enable-libsnappy --enable-libsrt --enable-libssh --enable-libsvtav1 --enable-libtesseract --enable-libtheora --enable-libvidstab --enable-libvmaf --enable-libvorbis --enable-libvpx --enable-libwebp --enable-libx264 --enable-libx265 --enable-libxml2 --enable-libxvid --enable-lzma --enable-libfontconfig --enable-libfreetype --enable-frei0r --enable-libass --enable-libopencore-amrnb --enable-libopencore-amrwb --enable-libopenjpeg --enable-libspeex --enable-libsoxr --enable-libzmq --enable-libzimg --disable-libjack --disable-indev=jack --enable-videotoolbox --enable-audiotoolbox --enable-neon\n",
      "  libavutil      59.  8.100 / 59.  8.100\n",
      "  libavcodec     61.  3.100 / 61.  3.100\n",
      "  libavformat    61.  1.100 / 61.  1.100\n",
      "  libavdevice    61.  1.100 / 61.  1.100\n",
      "  libavfilter    10.  1.100 / 10.  1.100\n",
      "  libswscale      8.  1.100 /  8.  1.100\n",
      "  libswresample   5.  1.100 /  5.  1.100\n",
      "  libpostproc    58.  1.100 / 58.  1.100\n",
      "Input #0, mov,mp4,m4a,3gp,3g2,mj2, from '/Users/larny/Desktop/Momentor/汽车渲染/4.金属漆制作.mp4':\n",
      "  Metadata:\n",
      "    major_brand     : mp42\n",
      "    minor_version   : 0\n",
      "    compatible_brands: mp42mp41\n",
      "    creation_time   : 2024-07-21T14:03:02.000000Z\n",
      "  Duration: 00:28:32.77, start: 0.000000, bitrate: 10181 kb/s\n",
      "  Stream #0:0[0x1](eng): Video: h264 (High) (avc1 / 0x31637661), yuv420p(progressive), 3840x2160 [SAR 1:1 DAR 16:9], 9860 kb/s, 30 fps, 30 tbr, 30k tbn (default)\n",
      "      Metadata:\n",
      "        creation_time   : 2024-07-21T14:03:02.000000Z\n",
      "        handler_name    : ?Mainconcept Video Media Handler\n",
      "        vendor_id       : [0][0][0][0]\n",
      "        encoder         : AVC Coding\n",
      "  Stream #0:1[0x2](eng): Audio: aac (LC) (mp4a / 0x6134706D), 48000 Hz, stereo, fltp, 317 kb/s (default)\n",
      "      Metadata:\n",
      "        creation_time   : 2024-07-21T14:03:02.000000Z\n",
      "        handler_name    : #Mainconcept MP4 Sound Media Handler\n",
      "        vendor_id       : [0][0][0][0]\n",
      "Stream mapping:\n",
      "  Stream #0:1 -> #0:0 (aac (native) -> mp3 (libmp3lame))\n",
      "Press [q] to stop, [?] for help\n",
      "Output #0, mp3, to '/Users/larny/Desktop/Momentor/汽车渲染/4.金属漆制作.mp3':\n",
      "  Metadata:\n",
      "    major_brand     : mp42\n",
      "    minor_version   : 0\n",
      "    compatible_brands: mp42mp41\n",
      "    TSSE            : Lavf61.1.100\n",
      "  Stream #0:0(eng): Audio: mp3, 48000 Hz, stereo, fltp (default)\n",
      "      Metadata:\n",
      "        creation_time   : 2024-07-21T14:03:02.000000Z\n",
      "        handler_name    : #Mainconcept MP4 Sound Media Handler\n",
      "        vendor_id       : [0][0][0][0]\n",
      "        encoder         : Lavc61.3.100 libmp3lame\n"
     ]
    },
    {
     "name": "stdout",
     "output_type": "stream",
     "text": [
      "转换成功: /Users/larny/Desktop/Momentor/汽车渲染/2.汽车渲染准备工作_1.mp4 -> /Users/larny/Desktop/Momentor/汽车渲染/2.汽车渲染准备工作_1.mp3\n"
     ]
    },
    {
     "name": "stderr",
     "output_type": "stream",
     "text": [
      "size=   23808KiB time=00:26:22.77 bitrate= 123.2kbits/s speed= 184x    \r"
     ]
    },
    {
     "name": "stdout",
     "output_type": "stream",
     "text": [
      "转换成功: /Users/larny/Desktop/Momentor/汽车渲染/4.金属漆制作.mp4 -> /Users/larny/Desktop/Momentor/汽车渲染/4.金属漆制作.mp3\n"
     ]
    },
    {
     "name": "stderr",
     "output_type": "stream",
     "text": [
      "[out#0/mp3 @ 0x13b01fc80] video:0KiB audio:25884KiB subtitle:0KiB other streams:0KiB global headers:0KiB muxing overhead: 0.001241%\n",
      "size=   25884KiB time=00:28:32.76 bitrate= 123.8kbits/s speed= 185x    \n"
     ]
    }
   ],
   "source": [
    "import os\n",
    "import subprocess\n",
    "\n",
    "def convert_videos_to_mp3(folder_path):\n",
    "    # 定义支持的视频格式\n",
    "    video_formats = ('.mp4', '.mov')\n",
    "    \n",
    "    # 获取指定文件夹内的所有文件\n",
    "    for filename in os.listdir(folder_path):\n",
    "        # 检查文件格式是否支持\n",
    "        if filename.endswith(video_formats):\n",
    "            # 构建视频文件的完整路径\n",
    "            video_path = os.path.join(folder_path, filename)\n",
    "            # 定义输出的MP3文件名称\n",
    "            mp3_filename = filename.rsplit('.', 1)[0] + '.mp3'\n",
    "            mp3_path = os.path.join(folder_path, mp3_filename)\n",
    "            # 构建ffmpeg命令\n",
    "            cmd = ['ffmpeg', '-i', video_path, '-q:a', '0', '-map', 'a', mp3_path, '-y']\n",
    "            \n",
    "            try:\n",
    "                # 执行命令\n",
    "                subprocess.run(cmd, check=True)\n",
    "                print(f\"转换成功: {video_path} -> {mp3_path}\")\n",
    "            except subprocess.CalledProcessError as e:\n",
    "                print(f\"转换失败: {video_path}，错误信息: {e}\")\n",
    "\n",
    "if __name__ == \"__main__\":\n",
    "    # 替换为你的视频文件夹路径\n",
    "    folder = '/Users/larny/Desktop/Momentor/汽车渲染'\n",
    "    convert_videos_to_mp3(folder)"
   ]
  },
  {
   "cell_type": "code",
   "execution_count": 29,
   "metadata": {},
   "outputs": [],
   "source": [
    "# 讯飞生成的srt字幕，进行合并、替换词汇、去除语气词操作\n",
    "# 25 10 对于讯飞的参数\n",
    "import os\n",
    "import pysrt\n",
    "import datetime\n",
    "import jieba\n",
    "import re\n",
    "def process_subtitle(input_srt, output_srt, span, max_chars, max_seconds, dict_file, mood_file):\n",
    "\n",
    "    def merge_subtitles(subs, span, max_chars=30, max_seconds=20):\n",
    "        def count_chinese_chars(text):\n",
    "            return sum(1 for char in text if '\\u4e00' <= char <= '\\u9fff')\n",
    "        \n",
    "        print(f\"合并前的字幕总行数: {len(subs)}\")\n",
    "        i = 0\n",
    "        while i < len(subs) - 1:\n",
    "            a = subs[i]\n",
    "            b = subs[i + 1]\n",
    "\n",
    "            # 将 SubRipTime 对象转换为 timedelta 对象\n",
    "            a_end = datetime.timedelta(hours=a.end.hours, minutes=a.end.minutes, seconds=a.end.seconds, microseconds=a.end.milliseconds * 1000)\n",
    "            a_start = datetime.timedelta(hours=a.start.hours, minutes=a.start.minutes, seconds=a.start.seconds, microseconds=a.start.milliseconds * 1000)\n",
    "            b_start = datetime.timedelta(hours=b.start.hours, minutes=b.start.minutes, seconds=b.start.seconds, microseconds=b.start.milliseconds * 1000)\n",
    "            b_end = datetime.timedelta(hours=b.end.hours, minutes=b.end.minutes, seconds=b.end.seconds, microseconds=b.end.milliseconds * 1000)\n",
    "\n",
    "            # 计算间隔\n",
    "            gap = (b_start - a_end).total_seconds()\n",
    "\n",
    "            if gap < span:\n",
    "                # 合并字幕的条件\n",
    "                merged_text = a.text + \" \" + b.text\n",
    "                a_duration = (a_end - a_start).total_seconds()\n",
    "                b_duration = (b_end - b_start).total_seconds()\n",
    "                merged_duration = a_duration + b_duration\n",
    "\n",
    "                if count_chinese_chars(merged_text) <= max_chars and merged_duration <= max_seconds:\n",
    "                    a.text = merged_text\n",
    "                    a.end = b.end\n",
    "                    subs.remove(b)\n",
    "                else:\n",
    "                    i += 1\n",
    "            else:\n",
    "                i += 1\n",
    "        print(f\"合并后的字幕总行数: {len(subs)}\")\n",
    "        return subs\n",
    "\n",
    "    def remove_mood_words(subs, mood_file):\n",
    "        with open(mood_file, 'r', encoding='utf-8') as f:\n",
    "            mood_words = [line.strip() for line in f.readlines()]\n",
    "\n",
    "        for sub in subs:\n",
    "            for mood_word in mood_words:\n",
    "                sub.text = sub.text.replace(mood_word, '')\n",
    "\n",
    "    def remove_mood_words_smart(subs, mood_file):\n",
    "        with open(mood_file, \"r\", encoding=\"utf-8\") as file:\n",
    "            mood_words = [line.strip() for line in file]\n",
    "        mood_word_pattern = r'\\b({})\\b'.format('|'.join(mood_words))\n",
    "\n",
    "        for sub in subs:\n",
    "            # 使用jieba分词\n",
    "            words = list(jieba.cut(sub.text))\n",
    "            \n",
    "            # 移除语气词和短语\n",
    "            cleaned_words = []\n",
    "            i = 0\n",
    "            while i < len(words):\n",
    "                word = words[i]\n",
    "                if i < len(words) - 1 and (word + words[i + 1]) in mood_words:\n",
    "                    i += 2\n",
    "                elif not re.match(mood_word_pattern, word):\n",
    "                    cleaned_words.append(word)\n",
    "                    i += 1\n",
    "                else:\n",
    "                    i += 1\n",
    "\n",
    "            # 重新组合成句子\n",
    "            sub.text = ''.join(cleaned_words)\n",
    "        return subs\n",
    "\n",
    "    def replace_words(subs, dict_file):\n",
    "        with open(dict_file, 'r', encoding='utf-8') as f:\n",
    "            replacement_rules = [line.strip().split('--') for line in f.readlines()]\n",
    "\n",
    "        for i, sub in enumerate(subs):\n",
    "            for s1, s2 in replacement_rules:\n",
    "                if s1.upper() in sub.text.upper():\n",
    "                    # print(f\"Replacing '{s1}' with '{s2}' in subtitle {i+1}\")\n",
    "                    sub.text = sub.text.replace(s1, s2)\n",
    "        return subs\n",
    "\n",
    "    # 读取字幕文件\n",
    "    subs = pysrt.open(input_srt, encoding='utf-8')\n",
    "\n",
    "    # 任务1\n",
    "    if len(subs)>500:\n",
    "        print(\"合并\")\n",
    "        subs = merge_subtitles(subs, span, max_chars, max_seconds)\n",
    "\n",
    "    # 任务2\n",
    "    # remove_mood_words(subs, mood_file)\n",
    "    # 任务2 智能分词方法\n",
    "    # subs = remove_mood_words_smart(subs, mood_file)\n",
    "\n",
    "    # 任务3\n",
    "    subs = replace_words(subs, dict_file)\n",
    "\n",
    "    # 保存修改后的字幕\n",
    "    subs.save(output_srt, encoding='utf-8')\n",
    "\n",
    "\n",
    "def process_all_subtitles_in_folder(folder_path, subfix = \"_CHS.srt\", max_chars = 25, max_seconds = 8 ):\n",
    "    # 遍历文件夹中所有文件\n",
    "    for filename in os.listdir(folder_path):\n",
    "        # 检查文件是否为_CHS.srt结尾\n",
    "        if filename.endswith(subfix):\n",
    "            full_path = os.path.join(folder_path, filename)\n",
    "            # 对符合条件的文件执行process_subtitle函数\n",
    "            process_subtitle(full_path, full_path.replace('.srt', '_NEW.srt'), 0.5, max_chars, max_seconds, 'dict.txt', 'mood.txt')\n",
    "\n",
    "\n",
    "# 示例使用\n",
    "folder_path = '/Users/larny/Downloads/5.碳纤维和珠光漆的制作.mp3' # 这里替换为你的文件夹路径\n",
    "process_all_subtitles_in_folder(folder_path, '.srt', 30, 10)\n",
    "# process_subtitle(prefix2 + '.srt', prefix2 +'_NEW.srt', 0.5, 20, 8, r'D:\\Users\\Larny\\srt_to_speech\\dict.txt', r'D:\\Users\\Larny\\srt_to_speech\\mood.txt')"
   ]
  },
  {
   "cell_type": "code",
   "execution_count": null,
   "metadata": {},
   "outputs": [],
   "source": [
    "# mov to mp4\n",
    "import os\n",
    "import subprocess\n",
    "\n",
    "def convert_mov_to_mp4(folder_path):\n",
    "    for filename in os.listdir(folder_path):\n",
    "        if filename.endswith(\".mov\"):\n",
    "            # 组合完整的文件路径\n",
    "            full_path = os.path.join(folder_path, filename)\n",
    "            # 创建输出文件的名称，将扩展名由.mov更改为.mp4\n",
    "            output_path = os.path.join(folder_path, os.path.splitext(filename)[0] + \".mp4\")\n",
    "            \n",
    "            # 构建ffmpeg命令\n",
    "            cmd = f'ffmpeg -i \"{full_path}\" -q:v 0 \"{output_path}\"'\n",
    "            \n",
    "            try:\n",
    "                # 执行ffmpeg命令\n",
    "                subprocess.run(cmd, check=True, shell=True)\n",
    "                print(f'Converted \"{filename}\" to MP4.')\n",
    "            except subprocess.CalledProcessError:\n",
    "                print(f'Failed to convert \"{filename}\".')\n",
    "\n",
    "# 示例调用\n",
    "folder_path =  '/Users/larny/Desktop/Momentor/疯狂动力学'\n",
    "convert_mov_to_mp4(folder_path)"
   ]
  },
  {
   "cell_type": "code",
   "execution_count": 55,
   "metadata": {},
   "outputs": [
    {
     "name": "stdout",
     "output_type": "stream",
     "text": [
      "修改前字幕总行数: 390\n",
      "修改后字幕总行数: 390\n",
      "合并后的字幕已保存为: /Users/larny/Desktop/Momentor/6.家居/4.自然场景搭建_原始_JOIN.srt\n"
     ]
    }
   ],
   "source": [
    "# 中文字幕合并\n",
    "import pysrt\n",
    "import os\n",
    "\n",
    "def time_to_seconds(time):\n",
    "    return time.hours * 3600 + time.minutes * 60 + time.seconds + time.milliseconds / 1000\n",
    "\n",
    "\n",
    "def merge_subtitles(subtitle_path, max_chars=30, max_duration=15):\n",
    "    # 加载字幕文件\n",
    "    subs = pysrt.open(subtitle_path, encoding='utf-8')\n",
    "    print(f\"修改前字幕总行数: {len(subs)}\")\n",
    "    def time_to_seconds(time):\n",
    "        return time.hours * 3600 + time.minutes * 60 + time.seconds + time.milliseconds / 1000\n",
    "    \n",
    "    i = 0\n",
    "    while i < len(subs) - 1:\n",
    "        current_sub = subs[i]\n",
    "        next_sub = subs[i + 1]\n",
    "        \n",
    "        total_chars = len(current_sub.text.replace(\" \", \"\")) + len(next_sub.text.replace(\" \", \"\"))\n",
    "        duration = time_to_seconds(next_sub.end) - time_to_seconds(current_sub.start)\n",
    "        \n",
    "        if total_chars <= max_chars and duration <= max_duration:\n",
    "            current_sub.text = f\"{current_sub.text} {next_sub.text}\"\n",
    "            current_sub.end = next_sub.end\n",
    "            subs.pop(i+1)\n",
    "        else:\n",
    "            i += 1\n",
    "    \n",
    "    base_name, ext = os.path.splitext(subtitle_path)\n",
    "    output_file = f\"{base_name}_JOIN{ext}\"\n",
    "    print(f\"修改后字幕总行数: {len(subs)}\")\n",
    "    subs.save(output_file, encoding='utf-8')\n",
    "    \n",
    "    print(f\"合并后的字幕已保存为: {output_file}\")\n",
    "\n",
    "# 调用函数示例\n",
    "merge_subtitles(r'/Users/larny/Desktop/Momentor/6.家居/4.自然场景搭建_原始.srt', \n",
    "                max_chars=20, max_duration=1)"
   ]
  },
  {
   "cell_type": "code",
   "execution_count": 8,
   "metadata": {},
   "outputs": [
    {
     "name": "stdout",
     "output_type": "stream",
     "text": [
      "修改前字幕总行数: 554\n",
      "修改后字幕总行数: 491\n",
      "合并后的字幕已保存为: //Users/larny/Desktop/Momentor/疯狂动力学/ENG/2-4布尔和复合外形_摄像机技巧_ENG_JOIN.srt\n"
     ]
    }
   ],
   "source": [
    "# 英文字幕合并\n",
    "import pysrt\n",
    "import os\n",
    "\n",
    "def merge_subtitles(subtitle_path, max_chars=80, max_duration=15):\n",
    "    # 加载字幕文件\n",
    "    subs = pysrt.open(subtitle_path, encoding='utf-8')\n",
    "    \n",
    "    def time_to_seconds(time):\n",
    "        return time.hours * 3600 + time.minutes * 60 + time.seconds + time.milliseconds / 1000\n",
    "\n",
    "    print(f\"修改前字幕总行数: {len(subs)}\")\n",
    "\n",
    "    i = 0\n",
    "    while i < len(subs) - 1:\n",
    "        current_sub = subs[i]\n",
    "        next_sub = subs[i + 1]\n",
    "        \n",
    "        # 这里我们不再区分中英文字符，统一计算字符数\n",
    "        total_chars = len(current_sub.text.replace(\" \", \"\")) + len(next_sub.text.replace(\" \", \"\"))\n",
    "        duration = time_to_seconds(next_sub.end) - time_to_seconds(current_sub.start)\n",
    "        \n",
    "        if total_chars <= max_chars and duration <= max_duration:\n",
    "            current_sub.text = f\"{current_sub.text} {next_sub.text}\"\n",
    "            current_sub.end = next_sub.end\n",
    "            subs.pop(i + 1)\n",
    "        else:\n",
    "            i += 1\n",
    "    \n",
    "    print(f\"修改后字幕总行数: {len(subs)}\")\n",
    "\n",
    "    base_name, ext = os.path.splitext(subtitle_path)\n",
    "    output_file = f\"{base_name}_JOIN{ext}\"\n",
    "    \n",
    "    subs.save(output_file, encoding='utf-8')\n",
    "    \n",
    "    print(f\"合并后的字幕已保存为: {output_file}\")\n",
    "\n",
    "# 示例调用函数\n",
    "merge_subtitles(r'//Users/larny/Desktop/Momentor/疯狂动力学/ENG/2-4布尔和复合外形_摄像机技巧_ENG.srt', \n",
    "                max_chars=60, max_duration=8)"
   ]
  },
  {
   "cell_type": "code",
   "execution_count": 11,
   "metadata": {},
   "outputs": [],
   "source": [
    "# 提取双语字幕的英文字幕，后缀从 ENG 改成 ENG2\n",
    "import pysrt # type: ignore\n",
    "import re\n",
    "\n",
    "def extract_english_subtitles(input_file):\n",
    "    # 使用正则表达式更改文件名\n",
    "    output_file = re.sub(r'GPT', 'ENG2', input_file)\n",
    "    \n",
    "    # 读取SRT文件\n",
    "    subs = pysrt.open(input_file, encoding='utf-8')\n",
    "    \n",
    "    # 创建一个新的SRT文件对象用于保存英文字幕\n",
    "    eng_subs = pysrt.SubRipFile()\n",
    "    \n",
    "    for sub in subs:\n",
    "        # 检查字幕是否包含'\\N'，表示有两种语言\n",
    "        if '\\n' in sub.text:\n",
    "            # 按'\\N'分割，并取下一行(英文)\n",
    "            eng_text = sub.text.split('\\n')[1]\n",
    "            # 创建新的字幕条目并设置属性\n",
    "            new_sub = pysrt.SubRipItem(index=sub.index, start=sub.start, end=sub.end, text=eng_text)\n",
    "            eng_subs.append(new_sub)\n",
    "    \n",
    "    # 保存英文字幕为新文件\n",
    "    eng_subs.save(output_file, encoding='utf-8')\n",
    "\n",
    "\n",
    "# 输入文件名\n",
    "input_filename = r'/Users/larny/Desktop/Momentor/疯狂动力学/ENG/5-6 布料热身_顶点贴图和域-修复_GPT.srt'\n",
    "\n",
    "# 调用函数\n",
    "extract_english_subtitles(input_filename)"
   ]
  },
  {
   "cell_type": "code",
   "execution_count": 15,
   "metadata": {},
   "outputs": [
    {
     "name": "stdout",
     "output_type": "stream",
     "text": [
      "Summary has been written to /Users/larny/Desktop/Momentor/汽车渲染/audio_durations_summary.txt\n"
     ]
    }
   ],
   "source": [
    "# 统计音频时长\n",
    "import os\n",
    "import subprocess\n",
    "from datetime import timedelta\n",
    "\n",
    "def get_audio_duration(audio_path):\n",
    "    # 使用ffprobe获取音频持续时间，输出为秒\n",
    "    cmd = ['ffprobe', '-v', 'error', '-show_entries', 'format=duration', '-of', 'default=noprint_wrappers=1:nokey=1', audio_path]\n",
    "    result = subprocess.run(cmd, stdout=subprocess.PIPE, text=True)\n",
    "    duration_seconds = float(result.stdout)\n",
    "    return timedelta(seconds=duration_seconds)\n",
    "\n",
    "def summarize_audio_durations(folder_path):\n",
    "    total_duration = timedelta()\n",
    "    summary_lines = []\n",
    "    audio_formats = ('.mp3','.aac')\n",
    "\n",
    "    for filename in os.listdir(folder_path):\n",
    "        if filename.lower().endswith(audio_formats):\n",
    "            audio_path = os.path.join(folder_path, filename)\n",
    "            duration = get_audio_duration(audio_path)\n",
    "            total_duration += duration\n",
    "            duration_str = str(duration).split('.')[0]  # 移除微秒部分\n",
    "            summary_lines.append(f\"{filename}: {duration_str}\")\n",
    "    \n",
    "    summary_lines.append(f\"Total Duration: {str(total_duration).split('.')[0]}\")  # 移除微秒部分\n",
    "\n",
    "    # 写入到txt文件\n",
    "    summary_file_path = os.path.join(folder_path, \"audio_durations_summary.txt\")\n",
    "    with open(summary_file_path, \"w\") as f:\n",
    "        f.write(\"\\n\".join(summary_lines))\n",
    "    \n",
    "    print(f'Summary has been written to {summary_file_path}')\n",
    "\n",
    "folder_path =  '/Users/larny/Desktop/Momentor/汽车渲染'\n",
    "summarize_audio_durations(folder_path)\n"
   ]
  },
  {
   "cell_type": "code",
   "execution_count": 30,
   "metadata": {},
   "outputs": [
    {
     "name": "stdout",
     "output_type": "stream",
     "text": [
      "Summary has been written to /Users/larny/Desktop/Momentor/汽车渲染/讯飞.mp3/srt_summary_extended_with_density.txt\n"
     ]
    }
   ],
   "source": [
    "# srt 统计时长，行数，字符数，密度\n",
    "import os\n",
    "import pysrt\n",
    "from datetime import timedelta\n",
    "\n",
    "def format_timedelta(td):\n",
    "    # 辅助函数，用于将timedelta格式化为HH:MM:SS\n",
    "    total_seconds = int(td.total_seconds())\n",
    "    hours, remainder = divmod(total_seconds, 3600)\n",
    "    minutes, seconds = divmod(remainder, 60)\n",
    "    return f'{hours:02}:{minutes:02}:{seconds:02}'\n",
    "\n",
    "def seconds_from_timedelta(td):\n",
    "    # 将timedelta转换为秒\n",
    "    return td.total_seconds()\n",
    "\n",
    "def count_srt_stats(folder_path):\n",
    "    if not os.path.isdir(folder_path):\n",
    "        print(\"输入的路径不是有效的文件夹路径\")\n",
    "        return\n",
    "\n",
    "    total_lines = 0\n",
    "    total_duration = timedelta()\n",
    "    total_chars = 0\n",
    "    total_density = 0\n",
    "    file_count = 0\n",
    "    summary_lines = []\n",
    "\n",
    "    for filename in os.listdir(folder_path):\n",
    "        if filename.lower().endswith('.srt'):\n",
    "            file_count += 1\n",
    "            file_path = os.path.join(folder_path, filename)\n",
    "            try:\n",
    "                subs = pysrt.open(file_path)\n",
    "                if subs:\n",
    "                    num_lines = len(subs)\n",
    "                    total_lines += num_lines\n",
    "                    char_count = sum(len(sub.text) for sub in subs)\n",
    "                    total_chars += char_count\n",
    "                    last_subtitle_end_time = subs[-1].end.to_time()\n",
    "                    last_subtitle_duration = timedelta(hours=last_subtitle_end_time.hour, minutes=last_subtitle_end_time.minute, seconds=last_subtitle_end_time.second)\n",
    "                    total_duration += last_subtitle_duration\n",
    "                    duration_seconds = seconds_from_timedelta(last_subtitle_duration)\n",
    "                    density = char_count / duration_seconds if duration_seconds > 0 else 0\n",
    "                    total_density += density\n",
    "                    summary_lines.append(f\"{filename}, Duration: {format_timedelta(last_subtitle_duration)}, Lines: {num_lines}, Chars: {char_count}, Density: {density:.2f} chars/sec\")\n",
    "            except Exception as e:\n",
    "                print(f\"处理文件 {filename} 时遇到错误: {e}\")\n",
    "\n",
    "    average_density = total_density / file_count if file_count > 0 else 0\n",
    "    summary_lines.append(f\"Total Duration: {format_timedelta(total_duration)}, Total Lines: {total_lines}, Total Chars: {total_chars}, Average Density: {average_density:.2f} chars/sec\")\n",
    "    \n",
    "    # 输出结果到txt文件\n",
    "    summary_file_path = os.path.join(folder_path, \"srt_summary_extended_with_density.txt\")\n",
    "    with open(summary_file_path, \"w\") as f:\n",
    "        f.write(\"\\n\".join(summary_lines))\n",
    "    \n",
    "    print(f'Summary has been written to {summary_file_path}')\n",
    "\n",
    "# 示例使用\n",
    "if __name__ == \"__main__\":\n",
    "    # folder_path = '/Users/larny/Desktop/Momentor/疯狂动力学/CHS'\n",
    "    folder_path = '/Users/larny/Desktop/Momentor/汽车渲染/讯飞.mp3'\n",
    "    count_srt_stats(folder_path)"
   ]
  },
  {
   "cell_type": "code",
   "execution_count": 6,
   "metadata": {},
   "outputs": [
    {
     "name": "stdout",
     "output_type": "stream",
     "text": [
      "Function clean_subtitles executed at: 2024-04-27 19:50:34.243495\n"
     ]
    }
   ],
   "source": [
    "# 某个FNL字幕，对标点符号进行处理\n",
    "from all_functions import *\n",
    "clean_subtitles(r'E:\\BaiduNetdiskDownload\\第六章大场景_新\\3.构图与巧用扫描模型_原始 - 副本.srt')"
   ]
  },
  {
   "cell_type": "code",
   "execution_count": null,
   "metadata": {},
   "outputs": [],
   "source": [
    "# 把一个根目录内为_FNLx.srt统一对标点符号进行处理\n",
    "import os\n",
    "\n",
    "def count_subdirectories(root_directory):\n",
    "    total_subdirectories = 0\n",
    "\n",
    "    for root, dirs, files in os.walk(root_directory):\n",
    "        total_subdirectories += len(dirs)\n",
    "        # 当您找到所需的信息后，可以使用 break 语句停止遍历\n",
    "        break\n",
    "\n",
    "    return total_subdirectories\n",
    "\n",
    "def process_srt_files(chapter, x, func_p):\n",
    "    root_prefix = r\"E:\\BaiduNetdiskDownload\\第\" + num2chinese(chapter) + \"章\\\\\"\n",
    "    max_episode = count_subdirectories(root_prefix)\n",
    "    print(max_episode)\n",
    "    for i in range(1, max_episode + 1):\n",
    "        subdir_name = f\"S0{str(chapter)}E{str(i).zfill(2)}\"\n",
    "        subdir_path = os.path.join(root_prefix, subdir_name)\n",
    "\n",
    "        if os.path.exists(subdir_path):\n",
    "            for filename in os.listdir(subdir_path):\n",
    "                if filename.startswith(f\"S09E{str(i).zfill(2)}_FNL{x}.srt\"):\n",
    "                    file_path = os.path.join(subdir_path, filename)\n",
    "                    func_p(file_path)\n",
    "        else:\n",
    "            print(f\"Subdirectory not found: {subdir_path}\")\n",
    "\n",
    "process_srt_files(2, 3, clean_subtitles)"
   ]
  },
  {
   "cell_type": "code",
   "execution_count": 4,
   "metadata": {},
   "outputs": [
    {
     "name": "stdout",
     "output_type": "stream",
     "text": [
      "Renamed 'E:\\BaiduNetdiskDownload\\第二章\\S02E10\\扩展 - 星球.mp4' to 'E:\\BaiduNetdiskDownload\\第二章\\S02E10\\S02E10.mp4'\n",
      "Renamed 'E:\\BaiduNetdiskDownload\\第二章\\S02E10\\扩展 - 星球.srt' to 'E:\\BaiduNetdiskDownload\\第二章\\S02E10\\S02E10.srt'\n"
     ]
    }
   ],
   "source": [
    "# STEP1.1 -- 重命名mp4文件\n",
    "rename_mp4(prefix, episode)"
   ]
  },
  {
   "cell_type": "code",
   "execution_count": 4,
   "metadata": {},
   "outputs": [
    {
     "name": "stdout",
     "output_type": "stream",
     "text": [
      "File E:\\BaiduNetdiskDownload\\第二章\\S02E10\\S02E10_CHS.srt already exists. Do you want to overwrite it? (y/n)\n"
     ]
    },
    {
     "name": "stdout",
     "output_type": "stream",
     "text": [
      "Function ass_to_srt executed at: 2023-08-27 16:29:50.429670\n",
      "File E:\\BaiduNetdiskDownload\\第二章\\S02E10\\S02E10_CHS.txt already exists. Do you want to overwrite it? (y/n)\n",
      "Function srt_to_txt executed at: 2023-08-27 16:29:51.059852\n",
      "File E:\\BaiduNetdiskDownload\\第二章\\S02E10\\S02E10_GPT.txt already exists. Do you want to overwrite it? (y/n)\n",
      "Function create_empty_file executed at: 2023-08-27 16:29:51.610999\n"
     ]
    }
   ],
   "source": [
    "# STEP2 -- 先在_CHS.ass里校对中文，ass to srt, 创建新的空文件(_GPT.txt)\n",
    "ass_to_srt(prefix2 + '_CHS.ass', my_dict, my_dict2, \"\")\n",
    "srt_to_txt(prefix2 + '_CHS.srt', \"。\")\n",
    "create_empty_file(prefix2)"
   ]
  },
  {
   "cell_type": "code",
   "execution_count": 5,
   "metadata": {},
   "outputs": [
    {
     "name": "stdout",
     "output_type": "stream",
     "text": [
      "Function txt_to_srt_withref executed at: 2023-08-27 17:32:42.216310\n"
     ]
    }
   ],
   "source": [
    "# STEP2.2 -- 以srt时间为基准，替换字典中的短语，将_GPT.txt转换_GPT_MOD.srt，\n",
    "def txt_to_srt_withref(txt_file, srt_file, extra_name='', dict = replace_dict):\n",
    "    srt1 = pysrt.open(srt_file)\n",
    "    srt_txt = open(srt_file, encoding='utf-8').readlines()\n",
    "    txt1 = open(txt_file, encoding='utf-8').readlines()\n",
    "    start_idx = 2\n",
    "    count_ = 0\n",
    "    raw_txt = ''\n",
    "\n",
    "    for i in range(len((srt_txt))-1):\n",
    "        rep_period_txt = replace_period(txt1[count_])\n",
    "        if i == start_idx:\n",
    "            # print(start_idx, count_)\n",
    "            # new_txt = replace_words(txt1[count_], dict)\n",
    "            new_txt = replace_words(rep_period_txt, dict) \n",
    "            start_idx += 4\n",
    "            if count_ < len(txt1) and txt1[count_-1].strip()[-1] == ',':\n",
    "                new_txt = new_txt[0].lower() + new_txt[1:]            \n",
    "            count_ += 1\n",
    "            raw_txt += new_txt\n",
    "        else:\n",
    "            raw_txt += srt_txt[i]\n",
    "\n",
    "    with open(txt_file[:-4] + '_' + extra_name + '.srt', mode='w') as f1:\n",
    "        f1.write(raw_txt)\n",
    "    current_time = datetime.datetime.now()\n",
    "    print(\"Function txt_to_srt_withref executed at:\", current_time)\n",
    "    return\n",
    "txt_to_srt_withref(prefix2 + \"_GPT.txt\", prefix2 + '_CHS.srt', 'MOD', replace_dict)"
   ]
  },
  {
   "cell_type": "code",
   "execution_count": 9,
   "metadata": {},
   "outputs": [
    {
     "name": "stdout",
     "output_type": "stream",
     "text": [
      "ffmpeg -hwaccel cuda -c:v h264_cuvid -i S02E10.mp4 -vf subtitles=S02E10_FX.ass -c:v h264_nvenc -b:v 15M -c:a copy S02E10_FX.mp4 -y\n"
     ]
    },
    {
     "name": "stderr",
     "output_type": "stream",
     "text": [
      "                                                                         "
     ]
    },
    {
     "name": "stdout",
     "output_type": "stream",
     "text": [
      "Total time taken for compression: 437.43 seconds\n"
     ]
    },
    {
     "name": "stderr",
     "output_type": "stream",
     "text": [
      "\r"
     ]
    },
    {
     "data": {
      "text/plain": [
       "0"
      ]
     },
     "execution_count": 9,
     "metadata": {},
     "output_type": "execute_result"
    }
   ],
   "source": [
    "# STEP3 -- 得到压制特效字幕的代码，自动压制\n",
    "cmd = get_fx_mp4(episode + '.mp4', episode + '_FX.ass')\n",
    "print(cmd)\n",
    "execute_command(prefix, cmd)"
   ]
  },
  {
   "cell_type": "code",
   "execution_count": 30,
   "metadata": {},
   "outputs": [
    {
     "name": "stdout",
     "output_type": "stream",
     "text": [
      "Function srt_to_txt executed at: 2023-07-25 21:51:53.244200\n"
     ]
    }
   ],
   "source": [
    "# STEP4.1 --  把_GPT_MOD.srt 初步校对好后，-> _GPT_MOD.txt，用于InstaText\n",
    "srt_to_txt(prefix2 + '_GPT_MOD.srt')"
   ]
  },
  {
   "cell_type": "code",
   "execution_count": 6,
   "metadata": {},
   "outputs": [
    {
     "name": "stdout",
     "output_type": "stream",
     "text": [
      "Function srt_to_txt executed at: 2023-08-30 20:22:00.740331\n"
     ]
    }
   ],
   "source": [
    "# STEP4.2 --  把_GPT_MOD.srt 完整校对好后，-> _GPT_MOD.txt，增加句尾的句号，用于 wellsaid 断句\n",
    "srt_to_txt(prefix2 + '_GPT_MOD.srt', '.')"
   ]
  },
  {
   "cell_type": "code",
   "execution_count": 8,
   "metadata": {},
   "outputs": [
    {
     "name": "stdout",
     "output_type": "stream",
     "text": [
      "File E:\\BaiduNetdiskDownload\\第二章\\S02E10\\S02E10_CHS.srt already exists. Do you want to overwrite it? (y/n)\n"
     ]
    },
    {
     "name": "stdout",
     "output_type": "stream",
     "text": [
      "Function ass_to_srt executed at: 2023-08-30 20:28:45.052922\n",
      "Function sync_subtitles executed at: 2023-08-30 20:28:45.098932\n"
     ]
    }
   ],
   "source": [
    "# STEP5 -- 把_GPT_MOD.srt 完整校对好后，将其时间同步到中文字幕文件上，并直接替换原始中文字幕，保证行数相同才能执行\n",
    "ass_to_srt(prefix2 + '_CHS.ass', my_dict, \"\")\n",
    "sync_subtitles(prefix2 + '_CHS.srt', prefix2 + '_GPT_MOD.srt')"
   ]
  },
  {
   "cell_type": "code",
   "execution_count": 33,
   "metadata": {},
   "outputs": [
    {
     "name": "stdout",
     "output_type": "stream",
     "text": [
      "Function sync_subtitles executed at: 2023-07-25 22:54:35.254934\n"
     ]
    }
   ],
   "source": [
    "# STEP5.1 -- 自动合并WAV文件\n",
    "# merge_wav_files(prefix)\n",
    "# STEP5.2 -- 自动合并MP3文件\n",
    "merge_audio_files(prefix)"
   ]
  },
  {
   "cell_type": "code",
   "execution_count": 10,
   "metadata": {},
   "outputs": [
    {
     "name": "stderr",
     "output_type": "stream",
     "text": [
      "Generating audio: 100%|██████████| 767/767 [00:31<00:00, 24.60it/s] \n"
     ]
    },
    {
     "name": "stdout",
     "output_type": "stream",
     "text": [
      "mp3 saved as E:\\BaiduNetdiskDownload\\第二章\\S02E10\\S02E10.mp3\n",
      "Function generate_correted_wav executed at: 2023-08-30 21:31:51.143291\n"
     ]
    }
   ],
   "source": [
    "# STEP6 -- 自动剪辑，校正AI配音的时间，使其匹配英文字幕,\n",
    "# generate_correted_wav2(prefix + 'KM-1.mp3', \n",
    "#                       prefix2 + \"_DES.srt\", \n",
    "#                       prefix2 + \"_GPT_MOD.srt\", \n",
    "#                       prefix2)\n",
    "generate_correted_wav(prefix + 'KM-1.mp3', \n",
    "                      prefix2 + \"_DES.srt\", \n",
    "                      prefix2 + \"_GPT_MOD.srt\", \n",
    "                      prefix2 + '_2.mp3')"
   ]
  },
  {
   "cell_type": "code",
   "execution_count": 71,
   "metadata": {},
   "outputs": [
    {
     "name": "stdout",
     "output_type": "stream",
     "text": [
      "Conversion Completed\n",
      "Function replace_audio executed at: 2023-04-17 14:21:08.436224\n"
     ]
    }
   ],
   "source": [
    "# STEP7 -- 替换中文视频的音频为AI配音\n",
    "# 改为在 PR 进行替换\n",
    "# replace_audio(prefix2 + \"_FX.mp4\",\n",
    "#               prefix2 + \".mp3\",\n",
    "#               prefix2 + \"_FNL.mp4\")"
   ]
  },
  {
   "cell_type": "code",
   "execution_count": 11,
   "metadata": {},
   "outputs": [
    {
     "name": "stdout",
     "output_type": "stream",
     "text": [
      "Function clean_subtitles executed at: 2023-08-30 21:42:48.133683\n"
     ]
    }
   ],
   "source": [
    "# STEP8 -- 在descript生成 FNL.srt，再去掉结尾多余的标点符号\n",
    "clean_subtitles(prefix2 + '_FNL.srt')"
   ]
  },
  {
   "cell_type": "code",
   "execution_count": 12,
   "metadata": {},
   "outputs": [
    {
     "name": "stdout",
     "output_type": "stream",
     "text": [
      "File E:\\BaiduNetdiskDownload\\第二章\\S02E10\\S02E10_CHS.srt already exists. Do you want to overwrite it? (y/n)\n"
     ]
    },
    {
     "name": "stdout",
     "output_type": "stream",
     "text": [
      "Function ass_to_srt executed at: 2023-08-30 21:42:52.391304\n",
      "Function replace_comma_with_period executed at: 2023-08-30 21:42:52.416308\n"
     ]
    }
   ],
   "source": [
    "# STEP9 -- 替换CHS.srt中错误的标点符号 ',' -> '.'\n",
    "ass_to_srt(prefix2 + '_CHS.ass', my_dict, \"\")\n",
    "replace_comma_with_period(prefix2 + '_CHS.srt')"
   ]
  },
  {
   "cell_type": "code",
   "execution_count": 13,
   "metadata": {},
   "outputs": [
    {
     "name": "stdout",
     "output_type": "stream",
     "text": [
      "Function convert_simplified_to_traditional executed at: 2023-08-30 21:42:53.862464\n"
     ]
    }
   ],
   "source": [
    "# STEP9.1 -- 转为繁体中文\n",
    "input_file = prefix2 + '_CHS.srt'\n",
    "convert_simplified_to_traditional(input_file)"
   ]
  },
  {
   "cell_type": "code",
   "execution_count": 42,
   "metadata": {},
   "outputs": [
    {
     "name": "stdout",
     "output_type": "stream",
     "text": [
      "Function convert_simplified_to_traditional executed at: 2023-07-27 19:08:05.091251\n"
     ]
    }
   ],
   "source": [
    "convert_simplified_to_traditional(r\"E:\\BaiduNetdiskDownload\\第一章\\1-10\\S01E10_CHS.srt\")"
   ]
  },
  {
   "cell_type": "code",
   "execution_count": 17,
   "metadata": {},
   "outputs": [
    {
     "name": "stdout",
     "output_type": "stream",
     "text": [
      "0:00:10 0:00:16 red T\n",
      "0:01:22 0:01:24 red T\n",
      "0:04:44 0:04:52 red T\n",
      "0:05:33 0:05:34 red T\n",
      "0:06:18 0:06:20 red T\n",
      "0:06:53 0:06:54 red T\n",
      "0:07:53 0:07:54 red T\n",
      "0:09:51 0:09:57 red T\n",
      "0:12:19 0:12:25 red T\n",
      "0:12:35 0:12:36 red T\n",
      "0:14:03 0:14:10 red T\n",
      "0:19:20 0:19:22 red T\n",
      "0:20:34 0:20:38 red T\n",
      "0:24:22 0:24:23 red T\n",
      "0:26:13 0:26:14 red T\n",
      "0:26:38 0:26:42 red T\n",
      "0:27:44 0:27:47 red T\n",
      "0:27:51 0:27:52 red T\n",
      "0:33:53 0:33:55 red T\n",
      "0:38:14 0:38:15 red T\n",
      "0:44:25 0:44:31 red T\n",
      "0:49:18 0:49:20 red T\n",
      "Function ass_to_srt executed at: 2023-08-30 21:45:07.760674\n"
     ]
    }
   ],
   "source": [
    "# STEP10 -- 找出中文字幕想删除的语句，用DEL样式提前标注，比如重复、无意义的句子\n",
    "ass_path = prefix2 + \"_CHS.ass\"\n",
    "\n",
    "\n",
    "def process_ass_file(ass_path, color='red', comment='T'):\n",
    "    with open(ass_path, 'r', encoding='utf-8-sig') as f:\n",
    "        content = f.readlines()\n",
    "\n",
    "    dialogue_pattern = re.compile(r\"Dialogue:\\s+\\d+,\\s*(\\d+:\\d+:\\d+)(?:\\.\\d+)?,\\s*(\\d+:\\d+:\\d+)(?:\\.\\d+)?,\\s*DEL\")\n",
    "\n",
    "    start, end = None, None\n",
    "    for line in content:\n",
    "        match = dialogue_pattern.search(line)\n",
    "        if match:\n",
    "            if not start:\n",
    "                start = match.group(1)\n",
    "            end = match.group(2)\n",
    "        else:\n",
    "            if start and end:\n",
    "                print(f\"{start} {end} {color} {comment}\")\n",
    "                start, end = None, None\n",
    "\n",
    "    # 如果文件的最后一部分是\"DEL\"样式，需要再次打印\n",
    "    if start and end:\n",
    "        print(f\"{start} {end} {color} {comment}\")\n",
    "         \n",
    "    current_time = datetime.datetime.now()\n",
    "    print(\"Function ass_to_srt executed at:\", current_time)\n",
    "\n",
    "process_ass_file(ass_path)"
   ]
  },
  {
   "cell_type": "code",
   "execution_count": 19,
   "metadata": {},
   "outputs": [
    {
     "name": "stdout",
     "output_type": "stream",
     "text": [
      "已复制结果到剪贴板，共54行\n"
     ]
    }
   ],
   "source": [
    "# STEP11 -- 找出间隔超过5s的空白区域，用于PR标记\n",
    "find_gaps_in_subs(srt_path = prefix2 + \"_FNL.srt\", span = 6, color ='teal')"
   ]
  },
  {
   "cell_type": "code",
   "execution_count": 221,
   "metadata": {},
   "outputs": [],
   "source": [
    "# 提前开始时间，延长结束时间\n",
    "offset_start_ms = 300\n",
    "offset_end_ms = 50\n",
    "shift_srt_file(r'E:\\BaiduNetdiskDownload\\第二章\\2.1\\S02E01_CHS.srt', \n",
    "               r'E:\\BaiduNetdiskDownload\\第二章\\2.1\\S02E01_CHS2.srt',\n",
    "                offset_start_ms, offset_end_ms)"
   ]
  },
  {
   "cell_type": "code",
   "execution_count": null,
   "metadata": {},
   "outputs": [],
   "source": [
    "# 把 Descript 输出的和英文字幕进行合并，Descript 会自动断句，导致字幕数多一些\n",
    "modify_srt_from_descript(\"合成9_DES.srt\", \"逐句调用_MOD.srt\")"
   ]
  },
  {
   "cell_type": "code",
   "execution_count": 93,
   "metadata": {},
   "outputs": [],
   "source": [
    "# txt MOD -> WSD ，增加句尾的句号，便于断句\n",
    "mod_to_wellsaid(r'E:\\BaiduNetdiskDownload\\第一章\\1-2\\S01E02_GPT_MOD.txt')"
   ]
  },
  {
   "cell_type": "code",
   "execution_count": 77,
   "metadata": {},
   "outputs": [],
   "source": [
    "# Instagram 拼合图片\n",
    "import os\n",
    "from PIL import Image\n",
    "\n",
    "def resize_and_fill(image, target_width, target_height):\n",
    "    width, height = image.size\n",
    "    aspect_ratio = float(width) / float(height)\n",
    "    target_aspect_ratio = float(target_width) / float(target_height)\n",
    "\n",
    "    if aspect_ratio > target_aspect_ratio:\n",
    "        new_height = target_height\n",
    "        new_width = int(new_height * aspect_ratio)\n",
    "    else:\n",
    "        new_width = target_width\n",
    "        new_height = int(new_width / aspect_ratio)\n",
    "\n",
    "    resized_image = image.resize((new_width, new_height), Image.ANTIALIAS)\n",
    "\n",
    "    x = (target_width - new_width) // 2\n",
    "    y = (target_height - new_height) // 2\n",
    "\n",
    "    result = Image.new(\"RGBA\", (target_width, target_height), (0, 0, 0, 0))\n",
    "    result.paste(resized_image, (x, y))\n",
    "\n",
    "    return result\n",
    "\n",
    "def merge_images(image1, image2):\n",
    "    merged = Image.new(\"RGBA\", (1400, 1536), (0, 0, 0, 0))\n",
    "    merged.paste(image1, (0, 0))\n",
    "    merged.paste(image2, (0, 768))\n",
    "\n",
    "    return merged\n",
    "\n",
    "def crop_center(image, target_width, target_height):\n",
    "    width, height = image.size\n",
    "    left = (width - target_width) // 2\n",
    "    top = (height - target_height) // 2\n",
    "    right = (width + target_width) // 2\n",
    "    bottom = (height + target_height) // 2\n",
    "\n",
    "    return image.crop((left, top, right, bottom))\n",
    "\n",
    "folder = r\"E:\\海外运营\\0427\"\n",
    "images = [file for file in os.listdir(folder) if file.endswith('.webp')]\n",
    "\n",
    "for i in range(0, len(images), 2):\n",
    "    if i + 1 < len(images):\n",
    "        img1 = Image.open(os.path.join(folder, images[i])).convert(\"RGBA\")\n",
    "        img2 = Image.open(os.path.join(folder, images[i+1])).convert(\"RGBA\")\n",
    "\n",
    "        img1_resized = resize_and_fill(img1, 1400, 768)\n",
    "        img2_resized = resize_and_fill(img2, 1400, 768) \n",
    "\n",
    "        merged = merge_images(img1_resized, img2_resized)\n",
    "\n",
    "        cropped = crop_center(merged, 1400, 1400)\n",
    "\n",
    "        cropped.save(os.path.join(folder, f\"{(i // 2) + 1}.png\"), \"PNG\")\n"
   ]
  },
  {
   "cell_type": "code",
   "execution_count": 78,
   "metadata": {},
   "outputs": [],
   "source": [
    "from PIL import Image\n",
    "import os\n",
    "import glob\n",
    "\n",
    "def merge_images(folder_name):\n",
    "    folder_path = os.path.join('E:\\\\海外运营', folder_name)\n",
    "    os.chdir(folder_path)\n",
    "\n",
    "    # 获取文件夹内的所有PNG文件，并按创建时间排序\n",
    "    png_files = sorted(glob.glob('*.png'), key=os.path.getctime)\n",
    "\n",
    "    for i in range(0, len(png_files), 2):\n",
    "        img1 = Image.open(png_files[i])\n",
    "        img2 = Image.open(png_files[i + 1])\n",
    "\n",
    "        # 获取图片尺寸\n",
    "        width, height = img1.size\n",
    "\n",
    "        # 创建新图片并将两个图片粘贴到新图片上\n",
    "        merged_image = Image.new('RGB', (width, height * 2))\n",
    "        merged_image.paste(img1, (0, 0))\n",
    "        merged_image.paste(img2, (0, height))\n",
    "\n",
    "        # 保存合并后的图片\n",
    "        merged_image.save(f'merged_{i//2+1}.png')\n",
    "\n",
    "# 调用函数，传入文件夹名\n",
    "merge_images('0427')"
   ]
  }
 ],
 "metadata": {
  "kernelspec": {
   "display_name": "base",
   "language": "python",
   "name": "python3"
  },
  "language_info": {
   "codemirror_mode": {
    "name": "ipython",
    "version": 3
   },
   "file_extension": ".py",
   "mimetype": "text/x-python",
   "name": "python",
   "nbconvert_exporter": "python",
   "pygments_lexer": "ipython3",
   "version": "3.11.8"
  },
  "orig_nbformat": 4,
  "vscode": {
   "interpreter": {
    "hash": "84bad81c1cae4992cdd49131359efb8f0041dc192a9f303897f6126c44fad7a5"
   }
  }
 },
 "nbformat": 4,
 "nbformat_minor": 2
}
